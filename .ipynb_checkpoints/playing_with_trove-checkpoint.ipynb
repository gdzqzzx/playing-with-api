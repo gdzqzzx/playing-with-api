{
 "cells": [
  {
   "cell_type": "markdown",
   "id": "fb8a095b-71d4-48b1-9753-2163c003dac3",
   "metadata": {
    "tags": []
   },
   "source": [
    "# Playing with Trove API\n",
    "\n",
    "<b>Author: Zhixin Zheng (ivy.zheng@unimelb.edu.au)</b>\n",
    "\n",
    "<font size=4.5>\n",
    "    \n",
    "This jupyter notebook is updated from the demo material in <b>'Working with APIs' training session </b>  for [UoM Digital Studio](https://arts.unimelb.edu.au/research/digital-studio).\n",
    "    \n",
    "You can click the <b>Start Button</b> on upper bar or press <b>Shift+Enter</b> to run the cell in the notebook."
   ]
  },
  {
   "cell_type": "markdown",
   "id": "d88a916f-9741-4ecf-a188-ca549bfb4e9b",
   "metadata": {
    "tags": []
   },
   "source": [
    "## 【IMPORTANT】1. Prerequisite Setting\n",
    "\n",
    "<font size=4.5>\n",
    "\n",
    "Most of the packages needed below are natively supported by python. Only `pandas` need to be installed in the package. \n",
    "    \n",
    "Uncomment the following cell (remove the `#`) and run it to install pandas in your environment."
   ]
  },
  {
   "cell_type": "code",
   "execution_count": 1,
   "id": "8ae6d7ae-57ef-4352-99ae-33392fda83d3",
   "metadata": {
    "execution": {
     "iopub.execute_input": "2021-09-05T03:05:54.693729Z",
     "iopub.status.busy": "2021-09-05T03:05:54.692732Z",
     "iopub.status.idle": "2021-09-05T03:05:54.698686Z",
     "shell.execute_reply": "2021-09-05T03:05:54.697713Z",
     "shell.execute_reply.started": "2021-09-05T03:05:54.692732Z"
    }
   },
   "outputs": [],
   "source": [
    "#!pip install pandas"
   ]
  },
  {
   "cell_type": "markdown",
   "id": "394a5cf9-1796-4322-b6e9-4c0bf7f4682a",
   "metadata": {},
   "source": [
    "<font size=4.5>\n",
    "\n",
    "Run the following cell to import the packages we need in this notebook."
   ]
  },
  {
   "cell_type": "code",
   "execution_count": 1,
   "id": "fa9d64cf-2202-4e1c-84bf-5bdb6e9c1838",
   "metadata": {
    "execution": {
     "iopub.execute_input": "2021-09-05T17:18:11.013482Z",
     "iopub.status.busy": "2021-09-05T17:18:11.012484Z",
     "iopub.status.idle": "2021-09-05T17:18:12.300530Z",
     "shell.execute_reply": "2021-09-05T17:18:12.300530Z",
     "shell.execute_reply.started": "2021-09-05T17:18:11.013482Z"
    },
    "tags": []
   },
   "outputs": [],
   "source": [
    "###\n",
    "# Import package\n",
    "###\n",
    "\n",
    "# library for api key input without echoing\n",
    "import getpass\n",
    "\n",
    "# library for handling json files\n",
    "import json\n",
    "\n",
    "# libraries for setting timestamp\n",
    "import time\n",
    "from datetime import datetime\n",
    "\n",
    "# library for reading json in a better format\n",
    "import pandas as pd\n",
    "\n",
    "# library for handling http requests\n",
    "import requests\n",
    "\n",
    "###\n",
    "# Set pre-defined function\n",
    "###\n",
    "\n",
    "\n",
    "def time_now():\n",
    "    \"\"\"\n",
    "    Returns current time.\n",
    "\n",
    "    :return: current time.\n",
    "    \"\"\"\n",
    "    return datetime.fromtimestamp(time.time()).strftime(\"%Y%m%d%H%M\")\n",
    "\n",
    "\n",
    "###\n",
    "# set root url\n",
    "###\n",
    "\n",
    "root_url = \"https://api.trove.nla.gov.au/v2/result\""
   ]
  },
  {
   "cell_type": "markdown",
   "id": "4ee8c8c9-9944-4c89-be0b-540fb7d0fb4a",
   "metadata": {
    "tags": []
   },
   "source": [
    "## 2. Set up your API key\n",
    "\n",
    "<font size=4.5>\n",
    "There will be an input box jump out when you run the following cell. Once you enter your API key, a masked string like \"················\" will be shown in the output area. "
   ]
  },
  {
   "cell_type": "code",
   "execution_count": 3,
   "id": "e321f7ed-5b9c-401d-9957-f5d05e1b7a64",
   "metadata": {
    "execution": {
     "iopub.execute_input": "2021-09-05T17:18:43.565029Z",
     "iopub.status.busy": "2021-09-05T17:18:43.565029Z",
     "iopub.status.idle": "2021-09-05T17:18:50.383913Z",
     "shell.execute_reply": "2021-09-05T17:18:50.382917Z",
     "shell.execute_reply.started": "2021-09-05T17:18:43.565029Z"
    },
    "tags": []
   },
   "outputs": [
    {
     "name": "stdin",
     "output_type": "stream",
     "text": [
      "Enter your API key:  ················\n"
     ]
    }
   ],
   "source": [
    "api_key = getpass.getpass(\"Enter your API key: \")"
   ]
  },
  {
   "cell_type": "markdown",
   "id": "3cbe1890-86ef-4755-9701-39e9b3e2ea69",
   "metadata": {
    "execution": {
     "iopub.execute_input": "2021-09-05T03:11:11.801239Z",
     "iopub.status.busy": "2021-09-05T03:11:11.801239Z",
     "iopub.status.idle": "2021-09-05T03:11:11.815222Z",
     "shell.execute_reply": "2021-09-05T03:11:11.814206Z",
     "shell.execute_reply.started": "2021-09-05T03:11:11.801239Z"
    }
   },
   "source": [
    "## 3. The first trove searching using API\n",
    "\n",
    "<font size=4.5 color=blue>\n",
    "    \n",
    "In this part, we will try to send a basic searching URL to Trove and get our first response.\n",
    "    \n",
    "</font>"
   ]
  },
  {
   "cell_type": "markdown",
   "id": "5060dd2f-5c4d-4f65-b66a-dfb87bbde743",
   "metadata": {
    "tags": []
   },
   "source": [
    "<font size=4.5>\n",
    "The following graph is illustrated the sturcture of url we'll send. The red part means that's a mandatory parameter for trove searching.\n",
    "    \n",
    "![alt text](./img/basic_searching_trove_url.png \"sturcture of URL for basic searching\")\n",
    "    \n",
    "<font size=4.5>\n",
    "<b>Parameters for a basic searching</b>\n",
    "\n",
    "* `key` - API key (Mandatory)\n",
    "* `zone` - \tAllows searching in a particular zone. Multiple zones can be searched by separating them with a comma. (Mandatory)\n",
    "* `q` - The search query. (Mandatory)\n",
    "* `s` - You will receive a CursorMark value called <b>'nextStart'</b> in your results if there are more pages of results. Use this 'nextStart' value with the 's' parameter to get to the next page of results and page through a long list of results. `*` is the default value, meaning get the response from first page.\n",
    "* `n` - The number of results to return per zone, maximum is 100, default is 20. For example, if your query fetches many records, the fetched records will be divided into many pages. The number of records in each page is set by this `n` parameter.\n",
    "* `encoding` - Get the response in `xml`(default) or  `json`.\n",
    "\n",
    "For more information about Parameters available when searching, check [here](https://trove.nla.gov.au/about/create-something/using-api/api-technical-guide#parameters-available-when-searching)."
   ]
  },
  {
   "cell_type": "code",
   "execution_count": 4,
   "id": "1f5502cf-76a9-45d7-8288-b39a15635485",
   "metadata": {
    "execution": {
     "iopub.execute_input": "2021-09-05T17:18:53.599003Z",
     "iopub.status.busy": "2021-09-05T17:18:53.597999Z",
     "iopub.status.idle": "2021-09-05T17:18:54.181527Z",
     "shell.execute_reply": "2021-09-05T17:18:54.181527Z",
     "shell.execute_reply.started": "2021-09-05T17:18:53.599003Z"
    },
    "tags": []
   },
   "outputs": [],
   "source": [
    "# edit your searching terms here\n",
    "query_term = \"covid-19\"\n",
    "\n",
    "# Don't edit the following lines\n",
    "start = \"*\"\n",
    "reqeust_params_first = {\n",
    "    \"key\": api_key,\n",
    "    \"q\": query_term,\n",
    "    \"zone\": \"newspaper\",\n",
    "    \"n\": 10,\n",
    "    \"s\": start,\n",
    "    \"encoding\": \"json\",\n",
    "}\n",
    "\n",
    "# send our query using GET request and store the response in response_first\n",
    "response_first = requests.get(root_url, params=reqeust_params_first)"
   ]
  },
  {
   "cell_type": "markdown",
   "id": "7f1b4cc3-727e-445f-8f95-183db6d0b750",
   "metadata": {},
   "source": [
    "## 4. Check your query response\n",
    "\n",
    "<font size=4.5 color=blue>\n",
    "    \n",
    "In this part, we will try to explore the response we get.\n",
    "    \n",
    "</font>"
   ]
  },
  {
   "cell_type": "markdown",
   "id": "51ddbe75-7e09-4827-9aea-3d818ae5911c",
   "metadata": {
    "tags": []
   },
   "source": [
    "### 4.1 Check the url sent to server/databse\n",
    "\n",
    "<font size=4.5>\n",
    "    Run the following cell to check the url you send to Trove."
   ]
  },
  {
   "cell_type": "code",
   "execution_count": null,
   "id": "60b82fb0-3a16-44ce-a6ca-3e92f40b9538",
   "metadata": {
    "tags": []
   },
   "outputs": [],
   "source": [
    "response_first.url"
   ]
  },
  {
   "cell_type": "markdown",
   "id": "fbe4cb43-2027-4854-8802-49d4557ecc21",
   "metadata": {
    "tags": []
   },
   "source": [
    "### 4.2 Check the response status\n",
    "\n",
    "<font size=4.5>\n",
    "    \n",
    "After we sent the get request, we need to check if the request was successful. We can check the http [response status codes](https://developer.mozilla.org/en-US/docs/Web/HTTP/Status) to monitor the response.\n",
    "    \n",
    "Here are some common status codes relating to `get` requests:\n",
    "\n",
    "* `200` - Success\n",
    "* `300` - The API is redirecting to a different endpoint\n",
    "* `400` - Bad request\n",
    "* `401` - Not authenticated\n",
    "* `403` - Forbidden\n",
    "* `404` - Not found\n",
    "* `429` - Too many requests"
   ]
  },
  {
   "cell_type": "code",
   "execution_count": 6,
   "id": "9dffedae-01cb-4825-9707-4794d9406853",
   "metadata": {
    "execution": {
     "iopub.execute_input": "2021-09-05T17:19:04.707939Z",
     "iopub.status.busy": "2021-09-05T17:19:04.706942Z",
     "iopub.status.idle": "2021-09-05T17:19:04.716914Z",
     "shell.execute_reply": "2021-09-05T17:19:04.715917Z",
     "shell.execute_reply.started": "2021-09-05T17:19:04.707939Z"
    },
    "tags": []
   },
   "outputs": [
    {
     "data": {
      "text/plain": [
       "200"
      ]
     },
     "execution_count": 6,
     "metadata": {},
     "output_type": "execute_result"
    }
   ],
   "source": [
    "response_first.status_code"
   ]
  },
  {
   "cell_type": "markdown",
   "id": "9fec7b66-fb53-4c88-bf92-683e732ab146",
   "metadata": {
    "tags": []
   },
   "source": [
    "### 4.3 Understand the response json\n",
    "\n",
    "<font size=4.5>\n",
    "Now that the request has be successfully completed, we can convert the response into json and parse it.\n",
    "    \n",
    "Run the following cell to convert our response into json."
   ]
  },
  {
   "cell_type": "code",
   "execution_count": 7,
   "id": "2912da3d-1f87-4f0d-b243-12738ab7ecd5",
   "metadata": {
    "execution": {
     "iopub.execute_input": "2021-09-05T17:19:05.869813Z",
     "iopub.status.busy": "2021-09-05T17:19:05.868820Z",
     "iopub.status.idle": "2021-09-05T17:19:05.875785Z",
     "shell.execute_reply": "2021-09-05T17:19:05.873772Z",
     "shell.execute_reply.started": "2021-09-05T17:19:05.869813Z"
    },
    "tags": []
   },
   "outputs": [],
   "source": [
    "content_first = response_first.json()"
   ]
  },
  {
   "cell_type": "markdown",
   "id": "73397e01-1530-4a19-a0a6-14eb0738910d",
   "metadata": {},
   "source": [
    "<font size=4.5>\n",
    "Run the following cell to take a look at json response we get."
   ]
  },
  {
   "cell_type": "code",
   "execution_count": 8,
   "id": "3d73550b-f003-4835-aa35-953fd341e7ac",
   "metadata": {
    "execution": {
     "iopub.execute_input": "2021-09-05T17:19:08.160523Z",
     "iopub.status.busy": "2021-09-05T17:19:08.160523Z",
     "iopub.status.idle": "2021-09-05T17:19:08.177040Z",
     "shell.execute_reply": "2021-09-05T17:19:08.176073Z",
     "shell.execute_reply.started": "2021-09-05T17:19:08.160523Z"
    }
   },
   "outputs": [
    {
     "data": {
      "text/plain": [
       "{'response': {'query': 'covid-19',\n",
       "  'zone': [{'name': 'newspaper',\n",
       "    'records': {'s': '*',\n",
       "     'n': '10',\n",
       "     'total': '224',\n",
       "     'next': '/result?q=covid-19&n=10&encoding=json&zone=newspaper&s=AoIIQZ0yuCkxOTk3MDk2ODM%3D',\n",
       "     'nextStart': 'AoIIQZ0yuCkxOTk3MDk2ODM=',\n",
       "     'article': [{'id': '258999523',\n",
       "       'url': '/newspaper/258999523',\n",
       "       'heading': 'Defence acts on COVID-19 pandemic',\n",
       "       'category': 'Article',\n",
       "       'title': {'id': '1672',\n",
       "        'value': 'Air Force News (National : 1997 - 2020)'},\n",
       "       'date': '2020-03-19',\n",
       "       'page': 3,\n",
       "       'pageSequence': 3,\n",
       "       'relevance': {'score': '1439.2992', 'value': 'very relevant'},\n",
       "       'snippet': 'IN THE wake of the World Health Organisation declaring Novel Coronavirus (COVID-19) a pandemic, Defence has implemented steps to mitigate the spread of the',\n",
       "       'troveUrl': 'https://trove.nla.gov.au/ndp/del/article/258999523?searchTerm=covid-19'},\n",
       "      {'id': '1430999',\n",
       "       'url': '/newspaper/1430999',\n",
       "       'heading': 'WOMEN TO WOMEN. INFLUENZA EPIDEMIC. WHAT TO DO.',\n",
       "       'category': 'Article',\n",
       "       'title': {'id': '13',\n",
       "        'value': 'The Argus (Melbourne, Vic. : 1848 - 1957)'},\n",
       "       'date': '1919-02-12',\n",
       "       'page': 10,\n",
       "       'pageSequence': 10,\n",
       "       'relevance': {'score': '195.68192', 'value': 'very relevant'},\n",
       "       'snippet': 'It is a matter for congratulation that although the influenza epidemic has definitely taken possession of Australian, its progress has been slow enough to allow the',\n",
       "       'troveUrl': 'https://trove.nla.gov.au/ndp/del/article/1430999?searchTerm=covid-19'},\n",
       "      {'id': '157093971',\n",
       "       'url': '/newspaper/157093971',\n",
       "       'heading': 'Personal',\n",
       "       'category': 'Article',\n",
       "       'title': {'id': '653',\n",
       "        'value': 'The Northern Champion (Taree, NSW : 1913 - 1954)'},\n",
       "       'date': '1919-10-08',\n",
       "       'page': 2,\n",
       "       'pageSequence': 2,\n",
       "       'relevance': {'score': '163.74782', 'value': 'very relevant'},\n",
       "       'snippet': 'Mr. H. E. Kerry, who, conducted Cardiff Town Baud, which won the B-gracle contest last Saturday, was a member, of the Besses of the Barn',\n",
       "       'troveUrl': 'https://trove.nla.gov.au/ndp/del/article/157093971?searchTerm=covid-19'},\n",
       "      {'id': '198691250',\n",
       "       'url': '/newspaper/198691250',\n",
       "       'heading': 'THE SHETLAND ISLANDS DISASTER.',\n",
       "       'category': 'Article',\n",
       "       'title': {'id': '582',\n",
       "        'value': 'Mount Alexander Mail (Vic. : 1854 - 1917)'},\n",
       "       'date': '1881-09-09',\n",
       "       'page': 3,\n",
       "       'pageSequence': 3,\n",
       "       'relevance': {'score': '135.5534', 'value': 'very relevant'},\n",
       "       'snippet': 'The following account of the recant storm in the Shetlands, which caused the loss of between 60 and 70 lives, is given by an Inverness paper of July 20:--',\n",
       "       'troveUrl': 'https://trove.nla.gov.au/ndp/del/article/198691250?searchTerm=covid-19'},\n",
       "      {'id': '260359492',\n",
       "       'url': '/newspaper/260359492',\n",
       "       'heading': 'NEW CYCLING TRACK OFFICIAL OPENING ON MONDAY BIG PROGRAMME OF RACES',\n",
       "       'category': 'Article',\n",
       "       'title': {'id': '1083',\n",
       "        'value': 'The Northam Advertiser (WA : 1895 - 1955)'},\n",
       "       'date': '1937-11-10',\n",
       "       'page': 3,\n",
       "       'pageSequence': 3,\n",
       "       'relevance': {'score': '131.61177', 'value': 'very relevant'},\n",
       "       'snippet': 'For some [?] past cycling enthu[?] [?] in Northam have [?] to [?]ing about an androids project for the [?] of the sport in',\n",
       "       'troveUrl': 'https://trove.nla.gov.au/ndp/del/article/260359492?searchTerm=covid-19'},\n",
       "      {'id': '74188084',\n",
       "       'url': '/newspaper/74188084',\n",
       "       'heading': 'BRIGHTON.',\n",
       "       'category': 'Article',\n",
       "       'title': {'id': '34',\n",
       "        'value': 'The Advertiser (Adelaide, SA : 1889 - 1931)'},\n",
       "       'date': '1923-11-21',\n",
       "       'page': 21,\n",
       "       'pageSequence': 21,\n",
       "       'relevance': {'score': '27.388388', 'value': 'very relevant'},\n",
       "       'snippet': 'November 19.—The Mayor (Mr. E. Ant[?], M.P.) reported that the members for the district and House of Assembly had succeeded in having the sum of £1,500 placed on the exsi[?] for',\n",
       "       'troveUrl': 'https://trove.nla.gov.au/ndp/del/article/74188084?searchTerm=covid-19'},\n",
       "      {'id': '163746019',\n",
       "       'url': '/newspaper/163746019',\n",
       "       'heading': 'Parents wait at airport',\n",
       "       'category': 'Article',\n",
       "       'title': {'id': '722',\n",
       "        'value': 'The Broadcaster (Fairfield, NSW : 1935 - 1978)'},\n",
       "       'date': '1968-09-10',\n",
       "       'page': 7,\n",
       "       'pageSequence': 7,\n",
       "       'relevance': {'score': '21.723457', 'value': 'very relevant'},\n",
       "       'snippet': 'Eight young Hoiroyd water polo players are expected to fly into Sydney today offer a',\n",
       "       'troveUrl': 'https://trove.nla.gov.au/ndp/del/article/163746019?searchTerm=covid-19'},\n",
       "      {'id': '89651245',\n",
       "       'url': '/newspaper/89651245',\n",
       "       'heading': 'BACK TO PIRIE. END OF THE FESTIVITiES. DANCING IN THE STREETS. Port Pirie, October 1.',\n",
       "       'category': 'Article',\n",
       "       'title': {'id': '291',\n",
       "        'value': 'Chronicle (Adelaide, SA : 1895 - 1954)'},\n",
       "       'date': '1926-10-09',\n",
       "       'page': 48,\n",
       "       'pageSequence': 48,\n",
       "       'relevance': {'score': '21.239456', 'value': 'very relevant'},\n",
       "       'snippet': \"To-day marked the climax of the week's festivities in connection with, the back to Pirie celebrations. Probably never before nave the streets been thronged by so many\",\n",
       "       'troveUrl': 'https://trove.nla.gov.au/ndp/del/article/89651245?searchTerm=covid-19'},\n",
       "      {'id': '71507282',\n",
       "       'url': '/newspaper/71507282',\n",
       "       'heading': \"Broker's Reports.\",\n",
       "       'category': 'Article',\n",
       "       'title': {'id': '52',\n",
       "        'value': 'Australian Town and Country Journal (Sydney, NSW : 1870 - 1919)'},\n",
       "       'date': '1904-03-23',\n",
       "       'page': 16,\n",
       "       'pageSequence': 16,\n",
       "       'relevance': {'score': '19.716072', 'value': 'very relevant'},\n",
       "       'snippet': \"The New Zenland Loan and Mercantile Agency company, Limited. reports on March 19:—This company's catalogue, offered on the 15th instant, comprised a fair selection of greas[?]es, including several good lines\",\n",
       "       'troveUrl': 'https://trove.nla.gov.au/ndp/del/article/71507282?searchTerm=covid-19'},\n",
       "      {'id': '199709683',\n",
       "       'url': '/newspaper/199709683',\n",
       "       'heading': 'THE COUNTRY TELEPHONE AND THE DECENTRALISATION.',\n",
       "       'category': 'Article',\n",
       "       'title': {'id': '326',\n",
       "        'value': 'Ovens and Murray Advertiser (Beechworth, Vic. : 1855 - 1918)'},\n",
       "       'date': '1909-09-11',\n",
       "       'page': 9,\n",
       "       'pageSequence': 9,\n",
       "       'relevance': {'score': '19.649765', 'value': 'very relevant'},\n",
       "       'snippet': 'Country storkeepers and business men generally who do not push the telephone [?] their district full to guard their own interests. If the farmer surrounding a',\n",
       "       'troveUrl': 'https://trove.nla.gov.au/ndp/del/article/199709683?searchTerm=covid-19'}]}}]}}"
      ]
     },
     "execution_count": 8,
     "metadata": {},
     "output_type": "execute_result"
    }
   ],
   "source": [
    "content_first"
   ]
  },
  {
   "cell_type": "markdown",
   "id": "1e1da2a4-7b20-4dd4-a125-cab22f146e38",
   "metadata": {},
   "source": [
    "<font size=4.5>\n",
    "\n",
    "Our result is hard to read right? You need a little basic python knowledge to peel the structure of your json response layer by layer. Briefly, use `content_first.keys()` to find the attribute this layer has, and then use `content_first['one_attribute_at_a_time']` to access the value of attribute you find, and use `content_first['upper_attribute_name'].keys()` and `content_first['upper_attribute_name']['lower_arritbute_name']` iteratively until there's no more attribute in the values of upper attribute.\n",
    "    </font>\n",
    "    \n",
    "<font size=4.5>\n",
    "But here, let's skip the parsing step and run the following cell to get some useful information from ourjson response directly.\n",
    "    \n",
    "Here are what we can get from the response:\n",
    "\n",
    "* Name of Searching Zone;\n",
    "* `nextStart` value (A value that can point you to next page of searching);\n",
    "* The total number of fetched records;\n",
    "* A list of fetched records. (The number of records in this list depends on the `n` parameter you set in url.)  \n",
    "    "
   ]
  },
  {
   "cell_type": "code",
   "execution_count": 9,
   "id": "76682241-0d38-4d77-a0b2-6d4abddd8361",
   "metadata": {
    "execution": {
     "iopub.execute_input": "2021-09-05T17:19:09.811734Z",
     "iopub.status.busy": "2021-09-05T17:19:09.811734Z",
     "iopub.status.idle": "2021-09-05T17:19:09.824668Z",
     "shell.execute_reply": "2021-09-05T17:19:09.823673Z",
     "shell.execute_reply.started": "2021-09-05T17:19:09.811734Z"
    },
    "tags": []
   },
   "outputs": [
    {
     "name": "stdout",
     "output_type": "stream",
     "text": [
      "We just made a query in newspaper zone\n",
      "The query terms are covid-19.\n",
      "There are 224 records found in this request.\n",
      "The 's' parameter for next page is 'AoIIQZ0yuCkxOTk3MDk2ODM='.\n"
     ]
    }
   ],
   "source": [
    "query = content_first[\"response\"][\"query\"]\n",
    "zone = content_first[\"response\"][\"zone\"][0]\n",
    "zone_name = zone[\"name\"]  # Name of Searching Zone\n",
    "records = zone[\"records\"]\n",
    "start = records[\"nextStart\"]\n",
    "total_num = records[\"total\"]  # Total number of fetched records\n",
    "articles = records[\n",
    "    \"article\"\n",
    "]  # That's the records of article we want to get! (but just the first page)\n",
    "\n",
    "print(f\"We just made a query in {zone_name} zone\")\n",
    "print(f\"The query terms are {query}.\")\n",
    "print(f\"There are {total_num} records found in this request.\")\n",
    "print(f\"The 's' parameter for next page is '{start}'.\")"
   ]
  },
  {
   "cell_type": "markdown",
   "id": "cfad0034-6148-4955-88b2-8c02365164a7",
   "metadata": {},
   "source": [
    "<font size=4.5>\n",
    "    \n",
    "Please note that <b>the structure may vary if you set different parameters in your request</b>, so don't forget to parse the structure of first page of your response before you capture a larger dataset. Generally, the structures having same record type (work/newspaper and gazette/list) would be the same. Check [record types of metatdata](https://trove.nla.gov.au/about/create-something/using-api/api-technical-guide#record-types) for more information. "
   ]
  },
  {
   "cell_type": "markdown",
   "id": "11336d62-7a19-40da-90bd-b2c3e9fd5f95",
   "metadata": {},
   "source": [
    "<font size=4.5>\n",
    "Let's see what the inner sturcture of each record in <b>newspaper</b> zone looks like:\n",
    "    \n",
    "In this basic searching, you can only get the metadata of each article (no full text included)."
   ]
  },
  {
   "cell_type": "code",
   "execution_count": 10,
   "id": "9c41b9b2-b5a4-4ac4-a31c-b2dd45994dbc",
   "metadata": {
    "execution": {
     "iopub.execute_input": "2021-09-05T17:19:12.509546Z",
     "iopub.status.busy": "2021-09-05T17:19:12.509546Z",
     "iopub.status.idle": "2021-09-05T17:19:12.517524Z",
     "shell.execute_reply": "2021-09-05T17:19:12.516531Z",
     "shell.execute_reply.started": "2021-09-05T17:19:12.509546Z"
    },
    "tags": []
   },
   "outputs": [
    {
     "data": {
      "text/plain": [
       "{'id': '258999523',\n",
       " 'url': '/newspaper/258999523',\n",
       " 'heading': 'Defence acts on COVID-19 pandemic',\n",
       " 'category': 'Article',\n",
       " 'title': {'id': '1672', 'value': 'Air Force News (National : 1997 - 2020)'},\n",
       " 'date': '2020-03-19',\n",
       " 'page': 3,\n",
       " 'pageSequence': 3,\n",
       " 'relevance': {'score': '1439.2992', 'value': 'very relevant'},\n",
       " 'snippet': 'IN THE wake of the World Health Organisation declaring Novel Coronavirus (COVID-19) a pandemic, Defence has implemented steps to mitigate the spread of the',\n",
       " 'troveUrl': 'https://trove.nla.gov.au/ndp/del/article/258999523?searchTerm=covid-19'}"
      ]
     },
     "execution_count": 10,
     "metadata": {},
     "output_type": "execute_result"
    }
   ],
   "source": [
    "# the articles variable stores a list of records of article\n",
    "# we retrieve the first article record here\n",
    "articles[0]"
   ]
  },
  {
   "cell_type": "markdown",
   "id": "b198bf62-6c44-4979-afe7-67fc61d7d5c3",
   "metadata": {
    "tags": []
   },
   "source": [
    "## 5. Advanced Searching\n",
    "\n",
    "<font size=4.5 color=blue>\n",
    "In this part, we will see more <u>parameters</u> and <u>searching commands</u> for advanced searching."
   ]
  },
  {
   "cell_type": "markdown",
   "id": "3cb8139b-1d76-4280-8db2-5cc022a6a0f8",
   "metadata": {
    "tags": []
   },
   "source": [
    "### 5.1 How to limit the searching? (Filtering!)\n",
    "\n",
    "<font size=4.5>\n",
    "    \n",
    "* `facet` - Facets are categories that describe all the records in a particular result set. For example, if you have 20 results, you can check the <b>decade</b> facet to find out that 18 articles are from 2010-2019 and 2 are from 1950-1959. Then you could modify your search to retrieve records only from 1950-1959 using <b>l-decde=195</b> (representing 1950-1959).<br> \n",
    "* `l-<facet name>` - Limit the search results using one of the available facets. e.g. <b>l-format=Book</b>\n",
    "\n",
    "Records in different zones have different supported facets, check [here](https://trove.nla.gov.au/about/create-something/using-api/api-technical-guide#facetValues) to find the list of supported facets.\n",
    "    \n",
    "Edit the parameters in the following cell."
   ]
  },
  {
   "cell_type": "code",
   "execution_count": 11,
   "id": "24249626-44c6-49db-8255-19b743926277",
   "metadata": {
    "execution": {
     "iopub.execute_input": "2021-09-05T17:19:16.748763Z",
     "iopub.status.busy": "2021-09-05T17:19:16.747770Z",
     "iopub.status.idle": "2021-09-05T17:19:16.758704Z",
     "shell.execute_reply": "2021-09-05T17:19:16.757707Z",
     "shell.execute_reply.started": "2021-09-05T17:19:16.748763Z"
    },
    "tags": []
   },
   "outputs": [],
   "source": [
    "# edit your searching terms & facet here\n",
    "query_term = \"influenza\"\n",
    "facet = \"decade\"\n",
    "\n",
    "# Don't edit the following lines\n",
    "start = \"*\"\n",
    "reqeust_params_first = {\n",
    "    \"key\": api_key,\n",
    "    \"q\": query_term,\n",
    "    \"zone\": \"newspaper\",\n",
    "    \"n\": 0,  # we won't get any records by setting n as 0\n",
    "    \"s\": start,\n",
    "    \"facet\": facet,\n",
    "    \"encoding\": \"json\",\n",
    "}"
   ]
  },
  {
   "cell_type": "markdown",
   "id": "faa91931-b44d-4b78-962b-874ac8334a3f",
   "metadata": {},
   "source": [
    "<font size=4.5>\n",
    "Run the following cell to seand our query and get response."
   ]
  },
  {
   "cell_type": "code",
   "execution_count": 12,
   "id": "9f658a79-8855-49f6-8463-65d52c6d3a2f",
   "metadata": {
    "execution": {
     "iopub.execute_input": "2021-09-05T17:19:18.255142Z",
     "iopub.status.busy": "2021-09-05T17:19:18.255142Z",
     "iopub.status.idle": "2021-09-05T17:19:18.588882Z",
     "shell.execute_reply": "2021-09-05T17:19:18.587888Z",
     "shell.execute_reply.started": "2021-09-05T17:19:18.255142Z"
    },
    "tags": []
   },
   "outputs": [
    {
     "name": "stdout",
     "output_type": "stream",
     "text": [
      "We just made a query in newspaper zone\n",
      "The query terms are influenza.\n",
      "There are 1715104 records found in this request.\n",
      "The 's' parameter for next page is '*'.\n"
     ]
    }
   ],
   "source": [
    "response_first = requests.get(root_url, params=reqeust_params_first)\n",
    "content_first = response_first.json()\n",
    "\n",
    "query = content_first[\"response\"][\"query\"]\n",
    "zone = content_first[\"response\"][\"zone\"][0]\n",
    "zone_name = zone[\"name\"]\n",
    "records = zone[\"records\"]\n",
    "start = records[\"nextStart\"]\n",
    "total_num = records[\"total\"]\n",
    "\n",
    "print(f\"We just made a query in {zone_name} zone\")\n",
    "print(f\"The query terms are {query}.\")\n",
    "print(f\"There are {total_num} records found in this request.\")\n",
    "print(f\"The 's' parameter for next page is '{start}'.\")"
   ]
  },
  {
   "cell_type": "markdown",
   "id": "b476ab52-e948-4c7f-9395-77740b9497c9",
   "metadata": {},
   "source": [
    "<font size=4.5> \n",
    "\n",
    "Run the following cell to check our response. There won't be any record returned as we set the `n` parameter as 0. <br>\n",
    "You can find there's a new attribure called `facets` apprear in the response (attribute). It shows the number of articles our query can fetch in each decade."
   ]
  },
  {
   "cell_type": "code",
   "execution_count": 13,
   "id": "376129fa-7188-44a7-b789-eef23c05d6ee",
   "metadata": {
    "execution": {
     "iopub.execute_input": "2021-09-05T17:19:19.904912Z",
     "iopub.status.busy": "2021-09-05T17:19:19.903914Z",
     "iopub.status.idle": "2021-09-05T17:19:19.917876Z",
     "shell.execute_reply": "2021-09-05T17:19:19.916876Z",
     "shell.execute_reply.started": "2021-09-05T17:19:19.904912Z"
    },
    "tags": []
   },
   "outputs": [
    {
     "data": {
      "text/plain": [
       "{'query': 'influenza',\n",
       " 'zone': [{'name': 'newspaper',\n",
       "   'records': {'s': '*',\n",
       "    'n': '0',\n",
       "    'total': '1715104',\n",
       "    'next': '/result?q=influenza&n=0&facet=decade&encoding=json&zone=newspaper&s=*',\n",
       "    'nextStart': '*'},\n",
       "   'facets': {'facet': {'name': 'decade',\n",
       "     'displayname': 'Decade',\n",
       "     'term': [{'count': '31',\n",
       "       'url': '/result?q=influenza&n=0&facet=decade&encoding=json&zone=newspaper&l-decade=201',\n",
       "       'search': 201,\n",
       "       'display': '2010-2019'},\n",
       "      {'count': '89',\n",
       "       'url': '/result?q=influenza&n=0&facet=decade&encoding=json&zone=newspaper&l-decade=200',\n",
       "       'search': 200,\n",
       "       'display': '2000-2009'},\n",
       "      {'count': '369',\n",
       "       'url': '/result?q=influenza&n=0&facet=decade&encoding=json&zone=newspaper&l-decade=199',\n",
       "       'search': 199,\n",
       "       'display': '1990-1999'},\n",
       "      {'count': '494',\n",
       "       'url': '/result?q=influenza&n=0&facet=decade&encoding=json&zone=newspaper&l-decade=198',\n",
       "       'search': 198,\n",
       "       'display': '1980-1989'},\n",
       "      {'count': '943',\n",
       "       'url': '/result?q=influenza&n=0&facet=decade&encoding=json&zone=newspaper&l-decade=197',\n",
       "       'search': 197,\n",
       "       'display': '1970-1979'},\n",
       "      {'count': '881',\n",
       "       'url': '/result?q=influenza&n=0&facet=decade&encoding=json&zone=newspaper&l-decade=196',\n",
       "       'search': 196,\n",
       "       'display': '1960-1969'},\n",
       "      {'count': '24843',\n",
       "       'url': '/result?q=influenza&n=0&facet=decade&encoding=json&zone=newspaper&l-decade=195',\n",
       "       'search': 195,\n",
       "       'display': '1950-1959'},\n",
       "      {'count': '98777',\n",
       "       'url': '/result?q=influenza&n=0&facet=decade&encoding=json&zone=newspaper&l-decade=194',\n",
       "       'search': 194,\n",
       "       'display': '1940-1949'},\n",
       "      {'count': '228273',\n",
       "       'url': '/result?q=influenza&n=0&facet=decade&encoding=json&zone=newspaper&l-decade=193',\n",
       "       'search': 193,\n",
       "       'display': '1930-1939'},\n",
       "      {'count': '305344',\n",
       "       'url': '/result?q=influenza&n=0&facet=decade&encoding=json&zone=newspaper&l-decade=192',\n",
       "       'search': 192,\n",
       "       'display': '1920-1929'},\n",
       "      {'count': '390177',\n",
       "       'url': '/result?q=influenza&n=0&facet=decade&encoding=json&zone=newspaper&l-decade=191',\n",
       "       'search': 191,\n",
       "       'display': '1910-1919'},\n",
       "      {'count': '275534',\n",
       "       'url': '/result?q=influenza&n=0&facet=decade&encoding=json&zone=newspaper&l-decade=190',\n",
       "       'search': 190,\n",
       "       'display': '1900-1909'},\n",
       "      {'count': '270998',\n",
       "       'url': '/result?q=influenza&n=0&facet=decade&encoding=json&zone=newspaper&l-decade=189',\n",
       "       'search': 189,\n",
       "       'display': '1890-1899'},\n",
       "      {'count': '62035',\n",
       "       'url': '/result?q=influenza&n=0&facet=decade&encoding=json&zone=newspaper&l-decade=188',\n",
       "       'search': 188,\n",
       "       'display': '1880-1889'},\n",
       "      {'count': '32872',\n",
       "       'url': '/result?q=influenza&n=0&facet=decade&encoding=json&zone=newspaper&l-decade=187',\n",
       "       'search': 187,\n",
       "       'display': '1870-1879'},\n",
       "      {'count': '19019',\n",
       "       'url': '/result?q=influenza&n=0&facet=decade&encoding=json&zone=newspaper&l-decade=186',\n",
       "       'search': 186,\n",
       "       'display': '1860-1869'},\n",
       "      {'count': '2932',\n",
       "       'url': '/result?q=influenza&n=0&facet=decade&encoding=json&zone=newspaper&l-decade=185',\n",
       "       'search': 185,\n",
       "       'display': '1850-1859'},\n",
       "      {'count': '829',\n",
       "       'url': '/result?q=influenza&n=0&facet=decade&encoding=json&zone=newspaper&l-decade=184',\n",
       "       'search': 184,\n",
       "       'display': '1840-1849'},\n",
       "      {'count': '618',\n",
       "       'url': '/result?q=influenza&n=0&facet=decade&encoding=json&zone=newspaper&l-decade=183',\n",
       "       'search': 183,\n",
       "       'display': '1830-1839'},\n",
       "      {'count': '45',\n",
       "       'url': '/result?q=influenza&n=0&facet=decade&encoding=json&zone=newspaper&l-decade=182',\n",
       "       'search': 182,\n",
       "       'display': '1820-1829'},\n",
       "      {'count': '1',\n",
       "       'url': '/result?q=influenza&n=0&facet=decade&encoding=json&zone=newspaper&l-decade=181',\n",
       "       'search': 181,\n",
       "       'display': '1810-1819'}]}}}]}"
      ]
     },
     "execution_count": 13,
     "metadata": {},
     "output_type": "execute_result"
    }
   ],
   "source": [
    "content_first[\"response\"]"
   ]
  },
  {
   "cell_type": "markdown",
   "id": "e4537130-3ef6-488f-886a-8454d8103451",
   "metadata": {},
   "source": [
    "<font size=4.5>\n",
    "\n",
    "Run the following cell to see what values of `facet` attribute looks like:"
   ]
  },
  {
   "cell_type": "code",
   "execution_count": 14,
   "id": "12034a18-e4ef-4aec-8aa7-f292359890bc",
   "metadata": {
    "execution": {
     "iopub.execute_input": "2021-09-05T17:19:21.358030Z",
     "iopub.status.busy": "2021-09-05T17:19:21.357036Z",
     "iopub.status.idle": "2021-09-05T17:19:21.369000Z",
     "shell.execute_reply": "2021-09-05T17:19:21.368003Z",
     "shell.execute_reply.started": "2021-09-05T17:19:21.358030Z"
    },
    "tags": []
   },
   "outputs": [
    {
     "data": {
      "text/plain": [
       "[{'count': '31',\n",
       "  'url': '/result?q=influenza&n=0&facet=decade&encoding=json&zone=newspaper&l-decade=201',\n",
       "  'search': 201,\n",
       "  'display': '2010-2019'},\n",
       " {'count': '89',\n",
       "  'url': '/result?q=influenza&n=0&facet=decade&encoding=json&zone=newspaper&l-decade=200',\n",
       "  'search': 200,\n",
       "  'display': '2000-2009'},\n",
       " {'count': '369',\n",
       "  'url': '/result?q=influenza&n=0&facet=decade&encoding=json&zone=newspaper&l-decade=199',\n",
       "  'search': 199,\n",
       "  'display': '1990-1999'},\n",
       " {'count': '494',\n",
       "  'url': '/result?q=influenza&n=0&facet=decade&encoding=json&zone=newspaper&l-decade=198',\n",
       "  'search': 198,\n",
       "  'display': '1980-1989'},\n",
       " {'count': '943',\n",
       "  'url': '/result?q=influenza&n=0&facet=decade&encoding=json&zone=newspaper&l-decade=197',\n",
       "  'search': 197,\n",
       "  'display': '1970-1979'},\n",
       " {'count': '881',\n",
       "  'url': '/result?q=influenza&n=0&facet=decade&encoding=json&zone=newspaper&l-decade=196',\n",
       "  'search': 196,\n",
       "  'display': '1960-1969'},\n",
       " {'count': '24843',\n",
       "  'url': '/result?q=influenza&n=0&facet=decade&encoding=json&zone=newspaper&l-decade=195',\n",
       "  'search': 195,\n",
       "  'display': '1950-1959'},\n",
       " {'count': '98777',\n",
       "  'url': '/result?q=influenza&n=0&facet=decade&encoding=json&zone=newspaper&l-decade=194',\n",
       "  'search': 194,\n",
       "  'display': '1940-1949'},\n",
       " {'count': '228273',\n",
       "  'url': '/result?q=influenza&n=0&facet=decade&encoding=json&zone=newspaper&l-decade=193',\n",
       "  'search': 193,\n",
       "  'display': '1930-1939'},\n",
       " {'count': '305344',\n",
       "  'url': '/result?q=influenza&n=0&facet=decade&encoding=json&zone=newspaper&l-decade=192',\n",
       "  'search': 192,\n",
       "  'display': '1920-1929'},\n",
       " {'count': '390177',\n",
       "  'url': '/result?q=influenza&n=0&facet=decade&encoding=json&zone=newspaper&l-decade=191',\n",
       "  'search': 191,\n",
       "  'display': '1910-1919'},\n",
       " {'count': '275534',\n",
       "  'url': '/result?q=influenza&n=0&facet=decade&encoding=json&zone=newspaper&l-decade=190',\n",
       "  'search': 190,\n",
       "  'display': '1900-1909'},\n",
       " {'count': '270998',\n",
       "  'url': '/result?q=influenza&n=0&facet=decade&encoding=json&zone=newspaper&l-decade=189',\n",
       "  'search': 189,\n",
       "  'display': '1890-1899'},\n",
       " {'count': '62035',\n",
       "  'url': '/result?q=influenza&n=0&facet=decade&encoding=json&zone=newspaper&l-decade=188',\n",
       "  'search': 188,\n",
       "  'display': '1880-1889'},\n",
       " {'count': '32872',\n",
       "  'url': '/result?q=influenza&n=0&facet=decade&encoding=json&zone=newspaper&l-decade=187',\n",
       "  'search': 187,\n",
       "  'display': '1870-1879'},\n",
       " {'count': '19019',\n",
       "  'url': '/result?q=influenza&n=0&facet=decade&encoding=json&zone=newspaper&l-decade=186',\n",
       "  'search': 186,\n",
       "  'display': '1860-1869'},\n",
       " {'count': '2932',\n",
       "  'url': '/result?q=influenza&n=0&facet=decade&encoding=json&zone=newspaper&l-decade=185',\n",
       "  'search': 185,\n",
       "  'display': '1850-1859'},\n",
       " {'count': '829',\n",
       "  'url': '/result?q=influenza&n=0&facet=decade&encoding=json&zone=newspaper&l-decade=184',\n",
       "  'search': 184,\n",
       "  'display': '1840-1849'},\n",
       " {'count': '618',\n",
       "  'url': '/result?q=influenza&n=0&facet=decade&encoding=json&zone=newspaper&l-decade=183',\n",
       "  'search': 183,\n",
       "  'display': '1830-1839'},\n",
       " {'count': '45',\n",
       "  'url': '/result?q=influenza&n=0&facet=decade&encoding=json&zone=newspaper&l-decade=182',\n",
       "  'search': 182,\n",
       "  'display': '1820-1829'},\n",
       " {'count': '1',\n",
       "  'url': '/result?q=influenza&n=0&facet=decade&encoding=json&zone=newspaper&l-decade=181',\n",
       "  'search': 181,\n",
       "  'display': '1810-1819'}]"
      ]
     },
     "execution_count": 14,
     "metadata": {},
     "output_type": "execute_result"
    }
   ],
   "source": [
    "searching_count_by_facet = content_first[\"response\"][\"zone\"][0][\"facets\"][\"facet\"][\n",
    "    \"term\"\n",
    "]\n",
    "searching_count_by_facet\n",
    "\n",
    "###\n",
    "# Codes for normalizing your facet values if you enter more than 1 facet\n",
    "###\n",
    "\n",
    "# facets = zone['facets']\n",
    "# facets_collection = {}\n",
    "\n",
    "# for facet in facets['facet']:\n",
    "#     facets_collection[facet['name']] = pd.json_normalize(facet['term'])\n",
    "# facets_collection['decade']\n",
    "# facets_collection['year']"
   ]
  },
  {
   "cell_type": "markdown",
   "id": "0c183a67-99f7-48e0-9932-f42e7581bcab",
   "metadata": {},
   "source": [
    "<font size=4.5>\n",
    "    \n",
    "Still confused? Run the following cell to see a human readable format of facet counting, with the help of `pandas.json_normalize()`.<br>\n",
    "We can see how many newspaper results about 'influenza' can be found in each decade.<br> \n",
    "By using `facet` parameter to get an overview of fetched records in each decade, you can either <b>decide the best time range for collecting your records</b>, or <b>rescale the range of fetching time to get sufficient records for your research</b>."
   ]
  },
  {
   "cell_type": "code",
   "execution_count": 15,
   "id": "d4478c42-067a-4119-a188-91f9fee4ca6b",
   "metadata": {
    "execution": {
     "iopub.execute_input": "2021-09-05T17:19:23.349753Z",
     "iopub.status.busy": "2021-09-05T17:19:23.349753Z",
     "iopub.status.idle": "2021-09-05T17:19:23.371067Z",
     "shell.execute_reply": "2021-09-05T17:19:23.370101Z",
     "shell.execute_reply.started": "2021-09-05T17:19:23.349753Z"
    },
    "tags": []
   },
   "outputs": [
    {
     "data": {
      "text/html": [
       "<div>\n",
       "<style scoped>\n",
       "    .dataframe tbody tr th:only-of-type {\n",
       "        vertical-align: middle;\n",
       "    }\n",
       "\n",
       "    .dataframe tbody tr th {\n",
       "        vertical-align: top;\n",
       "    }\n",
       "\n",
       "    .dataframe thead th {\n",
       "        text-align: right;\n",
       "    }\n",
       "</style>\n",
       "<table border=\"1\" class=\"dataframe\">\n",
       "  <thead>\n",
       "    <tr style=\"text-align: right;\">\n",
       "      <th></th>\n",
       "      <th>count</th>\n",
       "      <th>url</th>\n",
       "      <th>search</th>\n",
       "      <th>display</th>\n",
       "    </tr>\n",
       "  </thead>\n",
       "  <tbody>\n",
       "    <tr>\n",
       "      <th>0</th>\n",
       "      <td>31</td>\n",
       "      <td>/result?q=influenza&amp;n=0&amp;facet=decade&amp;encoding=...</td>\n",
       "      <td>201</td>\n",
       "      <td>2010-2019</td>\n",
       "    </tr>\n",
       "    <tr>\n",
       "      <th>1</th>\n",
       "      <td>89</td>\n",
       "      <td>/result?q=influenza&amp;n=0&amp;facet=decade&amp;encoding=...</td>\n",
       "      <td>200</td>\n",
       "      <td>2000-2009</td>\n",
       "    </tr>\n",
       "    <tr>\n",
       "      <th>2</th>\n",
       "      <td>369</td>\n",
       "      <td>/result?q=influenza&amp;n=0&amp;facet=decade&amp;encoding=...</td>\n",
       "      <td>199</td>\n",
       "      <td>1990-1999</td>\n",
       "    </tr>\n",
       "    <tr>\n",
       "      <th>3</th>\n",
       "      <td>494</td>\n",
       "      <td>/result?q=influenza&amp;n=0&amp;facet=decade&amp;encoding=...</td>\n",
       "      <td>198</td>\n",
       "      <td>1980-1989</td>\n",
       "    </tr>\n",
       "    <tr>\n",
       "      <th>4</th>\n",
       "      <td>943</td>\n",
       "      <td>/result?q=influenza&amp;n=0&amp;facet=decade&amp;encoding=...</td>\n",
       "      <td>197</td>\n",
       "      <td>1970-1979</td>\n",
       "    </tr>\n",
       "    <tr>\n",
       "      <th>5</th>\n",
       "      <td>881</td>\n",
       "      <td>/result?q=influenza&amp;n=0&amp;facet=decade&amp;encoding=...</td>\n",
       "      <td>196</td>\n",
       "      <td>1960-1969</td>\n",
       "    </tr>\n",
       "    <tr>\n",
       "      <th>6</th>\n",
       "      <td>24843</td>\n",
       "      <td>/result?q=influenza&amp;n=0&amp;facet=decade&amp;encoding=...</td>\n",
       "      <td>195</td>\n",
       "      <td>1950-1959</td>\n",
       "    </tr>\n",
       "    <tr>\n",
       "      <th>7</th>\n",
       "      <td>98777</td>\n",
       "      <td>/result?q=influenza&amp;n=0&amp;facet=decade&amp;encoding=...</td>\n",
       "      <td>194</td>\n",
       "      <td>1940-1949</td>\n",
       "    </tr>\n",
       "    <tr>\n",
       "      <th>8</th>\n",
       "      <td>228273</td>\n",
       "      <td>/result?q=influenza&amp;n=0&amp;facet=decade&amp;encoding=...</td>\n",
       "      <td>193</td>\n",
       "      <td>1930-1939</td>\n",
       "    </tr>\n",
       "    <tr>\n",
       "      <th>9</th>\n",
       "      <td>305344</td>\n",
       "      <td>/result?q=influenza&amp;n=0&amp;facet=decade&amp;encoding=...</td>\n",
       "      <td>192</td>\n",
       "      <td>1920-1929</td>\n",
       "    </tr>\n",
       "    <tr>\n",
       "      <th>10</th>\n",
       "      <td>390177</td>\n",
       "      <td>/result?q=influenza&amp;n=0&amp;facet=decade&amp;encoding=...</td>\n",
       "      <td>191</td>\n",
       "      <td>1910-1919</td>\n",
       "    </tr>\n",
       "    <tr>\n",
       "      <th>11</th>\n",
       "      <td>275534</td>\n",
       "      <td>/result?q=influenza&amp;n=0&amp;facet=decade&amp;encoding=...</td>\n",
       "      <td>190</td>\n",
       "      <td>1900-1909</td>\n",
       "    </tr>\n",
       "    <tr>\n",
       "      <th>12</th>\n",
       "      <td>270998</td>\n",
       "      <td>/result?q=influenza&amp;n=0&amp;facet=decade&amp;encoding=...</td>\n",
       "      <td>189</td>\n",
       "      <td>1890-1899</td>\n",
       "    </tr>\n",
       "    <tr>\n",
       "      <th>13</th>\n",
       "      <td>62035</td>\n",
       "      <td>/result?q=influenza&amp;n=0&amp;facet=decade&amp;encoding=...</td>\n",
       "      <td>188</td>\n",
       "      <td>1880-1889</td>\n",
       "    </tr>\n",
       "    <tr>\n",
       "      <th>14</th>\n",
       "      <td>32872</td>\n",
       "      <td>/result?q=influenza&amp;n=0&amp;facet=decade&amp;encoding=...</td>\n",
       "      <td>187</td>\n",
       "      <td>1870-1879</td>\n",
       "    </tr>\n",
       "    <tr>\n",
       "      <th>15</th>\n",
       "      <td>19019</td>\n",
       "      <td>/result?q=influenza&amp;n=0&amp;facet=decade&amp;encoding=...</td>\n",
       "      <td>186</td>\n",
       "      <td>1860-1869</td>\n",
       "    </tr>\n",
       "    <tr>\n",
       "      <th>16</th>\n",
       "      <td>2932</td>\n",
       "      <td>/result?q=influenza&amp;n=0&amp;facet=decade&amp;encoding=...</td>\n",
       "      <td>185</td>\n",
       "      <td>1850-1859</td>\n",
       "    </tr>\n",
       "    <tr>\n",
       "      <th>17</th>\n",
       "      <td>829</td>\n",
       "      <td>/result?q=influenza&amp;n=0&amp;facet=decade&amp;encoding=...</td>\n",
       "      <td>184</td>\n",
       "      <td>1840-1849</td>\n",
       "    </tr>\n",
       "    <tr>\n",
       "      <th>18</th>\n",
       "      <td>618</td>\n",
       "      <td>/result?q=influenza&amp;n=0&amp;facet=decade&amp;encoding=...</td>\n",
       "      <td>183</td>\n",
       "      <td>1830-1839</td>\n",
       "    </tr>\n",
       "    <tr>\n",
       "      <th>19</th>\n",
       "      <td>45</td>\n",
       "      <td>/result?q=influenza&amp;n=0&amp;facet=decade&amp;encoding=...</td>\n",
       "      <td>182</td>\n",
       "      <td>1820-1829</td>\n",
       "    </tr>\n",
       "    <tr>\n",
       "      <th>20</th>\n",
       "      <td>1</td>\n",
       "      <td>/result?q=influenza&amp;n=0&amp;facet=decade&amp;encoding=...</td>\n",
       "      <td>181</td>\n",
       "      <td>1810-1819</td>\n",
       "    </tr>\n",
       "  </tbody>\n",
       "</table>\n",
       "</div>"
      ],
      "text/plain": [
       "     count                                                url  search  \\\n",
       "0       31  /result?q=influenza&n=0&facet=decade&encoding=...     201   \n",
       "1       89  /result?q=influenza&n=0&facet=decade&encoding=...     200   \n",
       "2      369  /result?q=influenza&n=0&facet=decade&encoding=...     199   \n",
       "3      494  /result?q=influenza&n=0&facet=decade&encoding=...     198   \n",
       "4      943  /result?q=influenza&n=0&facet=decade&encoding=...     197   \n",
       "5      881  /result?q=influenza&n=0&facet=decade&encoding=...     196   \n",
       "6    24843  /result?q=influenza&n=0&facet=decade&encoding=...     195   \n",
       "7    98777  /result?q=influenza&n=0&facet=decade&encoding=...     194   \n",
       "8   228273  /result?q=influenza&n=0&facet=decade&encoding=...     193   \n",
       "9   305344  /result?q=influenza&n=0&facet=decade&encoding=...     192   \n",
       "10  390177  /result?q=influenza&n=0&facet=decade&encoding=...     191   \n",
       "11  275534  /result?q=influenza&n=0&facet=decade&encoding=...     190   \n",
       "12  270998  /result?q=influenza&n=0&facet=decade&encoding=...     189   \n",
       "13   62035  /result?q=influenza&n=0&facet=decade&encoding=...     188   \n",
       "14   32872  /result?q=influenza&n=0&facet=decade&encoding=...     187   \n",
       "15   19019  /result?q=influenza&n=0&facet=decade&encoding=...     186   \n",
       "16    2932  /result?q=influenza&n=0&facet=decade&encoding=...     185   \n",
       "17     829  /result?q=influenza&n=0&facet=decade&encoding=...     184   \n",
       "18     618  /result?q=influenza&n=0&facet=decade&encoding=...     183   \n",
       "19      45  /result?q=influenza&n=0&facet=decade&encoding=...     182   \n",
       "20       1  /result?q=influenza&n=0&facet=decade&encoding=...     181   \n",
       "\n",
       "      display  \n",
       "0   2010-2019  \n",
       "1   2000-2009  \n",
       "2   1990-1999  \n",
       "3   1980-1989  \n",
       "4   1970-1979  \n",
       "5   1960-1969  \n",
       "6   1950-1959  \n",
       "7   1940-1949  \n",
       "8   1930-1939  \n",
       "9   1920-1929  \n",
       "10  1910-1919  \n",
       "11  1900-1909  \n",
       "12  1890-1899  \n",
       "13  1880-1889  \n",
       "14  1870-1879  \n",
       "15  1860-1869  \n",
       "16  1850-1859  \n",
       "17  1840-1849  \n",
       "18  1830-1839  \n",
       "19  1820-1829  \n",
       "20  1810-1819  "
      ]
     },
     "execution_count": 15,
     "metadata": {},
     "output_type": "execute_result"
    }
   ],
   "source": [
    "pd.json_normalize(searching_count_by_facet)"
   ]
  },
  {
   "cell_type": "markdown",
   "id": "d82c5a3a-1c6f-49b5-95dc-3d3913f6ad25",
   "metadata": {},
   "source": [
    "<font size=4.5>\n",
    "\n",
    "To further refine your fetched by decde, we can use `l-decade` parameter to constrain our search."
   ]
  },
  {
   "cell_type": "code",
   "execution_count": 16,
   "id": "33b0254b-07a9-4419-9d30-d8e505ad3b7c",
   "metadata": {
    "execution": {
     "iopub.execute_input": "2021-09-05T17:19:24.917024Z",
     "iopub.status.busy": "2021-09-05T17:19:24.916050Z",
     "iopub.status.idle": "2021-09-05T17:19:25.181564Z",
     "shell.execute_reply": "2021-09-05T17:19:25.181564Z",
     "shell.execute_reply.started": "2021-09-05T17:19:24.917024Z"
    },
    "tags": []
   },
   "outputs": [
    {
     "data": {
      "text/plain": [
       "{'s': '*',\n",
       " 'n': '1',\n",
       " 'total': '1',\n",
       " 'article': [{'id': '2178581',\n",
       "   'url': '/newspaper/2178581',\n",
       "   'heading': 'SHIP NEWS.',\n",
       "   'category': 'Article',\n",
       "   'title': {'id': '3',\n",
       "    'value': 'The Sydney Gazette and New South Wales Advertiser (NSW : 1803 - 1842)'},\n",
       "   'date': '1819-03-06',\n",
       "   'page': 2,\n",
       "   'pageSequence': 2,\n",
       "   'relevance': {'score': '6.024128', 'value': 'very relevant'},\n",
       "   'snippet': 'On Thursday last arrived the transport ship Surrey, commanded by Captain Raine, the Gentleman whose navigated her from hence to England after she had lost her first Commander, and every other senior Officer',\n",
       "   'troveUrl': 'https://trove.nla.gov.au/ndp/del/article/2178581?searchTerm=influenza'}]}"
      ]
     },
     "execution_count": 16,
     "metadata": {},
     "output_type": "execute_result"
    }
   ],
   "source": [
    "# edit here if you want to change the value of l-decade\n",
    "l_decade = 181  # this mean we want articles  from 1810-1819 only\n",
    "\n",
    "# don't edit below!\n",
    "start = \"*\"\n",
    "query_term = \"influenza\"\n",
    "\n",
    "reqeust_params_advanced = {\n",
    "    \"key\": api_key,\n",
    "    \"q\": query_term,\n",
    "    \"zone\": \"newspaper\",\n",
    "    \"n\": 20,\n",
    "    \"s\": start,\n",
    "    \"encoding\": \"json\",\n",
    "    \"l-decade\": l_decade,\n",
    "}\n",
    "\n",
    "response = requests.get(root_url, reqeust_params_advanced)\n",
    "if response.status_code == 200:\n",
    "    records = response.json()[\"response\"][\"zone\"][0][\"records\"]\n",
    "\n",
    "# show the records we get\n",
    "records"
   ]
  },
  {
   "cell_type": "markdown",
   "id": "d5dd8c8c-29bb-4cba-b091-8a91fee8c904",
   "metadata": {
    "tags": []
   },
   "source": [
    "### 5.2 How to construct a complex query? (More Filtering!)\n",
    "\n",
    "<font size=4.5>\n",
    "\n",
    "We can use different kinds of searching commands to construct a more complex query term for `q` parameter.\n",
    "    \n",
    "* Boolean Operators: `AND`, `OR`, `NOT`\n",
    "* Punctuations: `\"quotation marks\"`, `(brackets)`.\n",
    "* Index: `date`, `text`, `fulltext`, etc. For more index can be used in query, please check [here](https://trove.nla.gov.au/about/create-something/using-api/api-technical-guide#list-of-supported-indexes).\n",
    "\n",
    "For more information about constructing a complex search query, please check [here](https://trove.nla.gov.au/help/searching/constructing-complex-search-query)."
   ]
  },
  {
   "cell_type": "markdown",
   "id": "8224d994-4c1b-41c8-8c9c-cfcbcdf4b2d2",
   "metadata": {},
   "source": [
    "<font size=4.5>\n",
    "\n",
    "Run the following cell to test different queries using different searching commands in `q` parameter. Though we can't compare the returned records immediately, we can compare <u>total number of fetched records</u> in each query to feel their filtering effect."
   ]
  },
  {
   "cell_type": "code",
   "execution_count": 17,
   "id": "b1c6f472-97d3-4aaa-8426-fcb3e848ed5c",
   "metadata": {
    "execution": {
     "iopub.execute_input": "2021-09-05T17:19:27.641770Z",
     "iopub.status.busy": "2021-09-05T17:19:27.641770Z",
     "iopub.status.idle": "2021-09-05T17:19:32.723481Z",
     "shell.execute_reply": "2021-09-05T17:19:32.721487Z",
     "shell.execute_reply.started": "2021-09-05T17:19:27.641770Z"
    },
    "tags": []
   },
   "outputs": [
    {
     "name": "stdout",
     "output_type": "stream",
     "text": [
      "**********\n",
      "Query term： influenza\n",
      "We got 1715104 results in this query.\n",
      "**********\n",
      "Query term： influenza date:[1810 TO 1819]\n",
      "We got 1 results in this query.\n",
      "**********\n",
      "Query term： influenza NOT Spanish\n",
      "We got 1680924 results in this query.\n",
      "**********\n",
      "Query term： influenza AND America AND Spanish\n",
      "We got 6197 results in this query.\n",
      "**********\n",
      "Query term： influenza AND (America OR Spanish)\n",
      "We got 143408 results in this query.\n",
      "**********\n",
      "Query term： Spanish influenza\n",
      "We got 34180 results in this query.\n",
      "**********\n",
      "Query term： \"Spanish influenza\"\n",
      "We got 8625 results in this query.\n"
     ]
    }
   ],
   "source": [
    "# edit the terms you want to test here\n",
    "query_terms = [\n",
    "    \"influenza\",\n",
    "    \"influenza date:[1810 TO 1819]\",  # you must provide a certin date range\n",
    "    \"influenza NOT Spanish\",\n",
    "    \"influenza AND America AND Spanish\",\n",
    "    \"influenza AND (America OR Spanish)\",\n",
    "    \"Spanish influenza\",\n",
    "    '\"Spanish influenza\"',  # this is a phrase searching\n",
    "]\n",
    "\n",
    "# don't modify here\n",
    "for query_term in query_terms:\n",
    "    reqeust_params_advanced = {\n",
    "        \"key\": api_key,\n",
    "        \"q\": query_term,\n",
    "        \"zone\": \"newspaper\",\n",
    "        \"n\": 100,\n",
    "        \"s\": \"*\",\n",
    "        \"encoding\": \"json\",\n",
    "    }\n",
    "\n",
    "    response = requests.get(root_url, reqeust_params_advanced)\n",
    "    if response.status_code == 200:\n",
    "        zone = response.json()[\"response\"][\"zone\"][0]\n",
    "        total_num = zone[\"records\"][\"total\"]\n",
    "        print(\"*\" * 10)\n",
    "        print(\"Query term：\", query_term)\n",
    "        print(f\"We got {total_num} results in this query.\")"
   ]
  },
  {
   "cell_type": "markdown",
   "id": "7892abbd-fcd5-46da-b4a5-b2cb12a84417",
   "metadata": {
    "tags": []
   },
   "source": [
    "### 5.3 How to sort your response? (Sorting!)\n",
    "\n",
    "<font size=4.5>\n",
    "\n",
    "* `sortby` - The sort order for the results. Both date of publication and relevance are supported. The possible values are <b>dateasc</b>, <b>datedesc</b>, and <b>relevance</b>. The defualt value is <b>relevance</b>."
   ]
  },
  {
   "cell_type": "markdown",
   "id": "b3a8a9a3-cf39-46c8-ba56-ab2611c2c519",
   "metadata": {},
   "source": [
    "<font size=4.5>\n",
    "\n",
    "Run the following cell to get records sorting from latest date to earliest date (using <b>datedesc</b>). "
   ]
  },
  {
   "cell_type": "code",
   "execution_count": 18,
   "id": "76344120-338e-4d25-af86-97e95ecf09a0",
   "metadata": {
    "execution": {
     "iopub.execute_input": "2021-09-05T17:19:35.310859Z",
     "iopub.status.busy": "2021-09-05T17:19:35.309861Z",
     "iopub.status.idle": "2021-09-05T17:19:35.921544Z",
     "shell.execute_reply": "2021-09-05T17:19:35.919550Z",
     "shell.execute_reply.started": "2021-09-05T17:19:35.310859Z"
    },
    "tags": []
   },
   "outputs": [],
   "source": [
    "# edit here if you want to change the value of sortby parameter\n",
    "sortby = \"datedesc\"\n",
    "\n",
    "# don't edit below!\n",
    "start = \"*\"\n",
    "query_term = \"influenza\"\n",
    "\n",
    "reqeust_params_advanced = {\n",
    "    \"key\": api_key,\n",
    "    \"q\": query_term,\n",
    "    \"zone\": \"newspaper\",\n",
    "    \"n\": 100,\n",
    "    \"s\": \"*\",\n",
    "    \"encoding\": \"json\",\n",
    "    \"sortby\": sortby,\n",
    "}\n",
    "\n",
    "response = requests.get(root_url, reqeust_params_advanced)\n",
    "if response.status_code == 200:\n",
    "    articles = response.json()[\"response\"][\"zone\"][0][\"records\"][\"article\"]"
   ]
  },
  {
   "cell_type": "markdown",
   "id": "389d23af-71af-424a-b7ac-7f451e722e4d",
   "metadata": {},
   "source": [
    "<font size=4.5>\n",
    "\n",
    "Run the following cell, you can see the first article of your returned records is published on the latest date Trove can find. "
   ]
  },
  {
   "cell_type": "code",
   "execution_count": 19,
   "id": "319b818e-a5e1-4700-9d8c-7711122624c8",
   "metadata": {
    "execution": {
     "iopub.execute_input": "2021-09-05T17:19:37.766446Z",
     "iopub.status.busy": "2021-09-05T17:19:37.765449Z",
     "iopub.status.idle": "2021-09-05T17:19:37.775423Z",
     "shell.execute_reply": "2021-09-05T17:19:37.774425Z",
     "shell.execute_reply.started": "2021-09-05T17:19:37.766446Z"
    },
    "tags": []
   },
   "outputs": [
    {
     "data": {
      "text/plain": [
       "{'id': '260653327',\n",
       " 'url': '/newspaper/260653327',\n",
       " 'heading': 'Stand-out team The airbase operations team push through the challenges of Red Flag, FLTLT Stephanie Anderson writes',\n",
       " 'category': 'Article',\n",
       " 'title': {'id': '1672', 'value': 'Air Force News (National : 1997 - 2020)'},\n",
       " 'date': '2019-03-07',\n",
       " 'page': 13,\n",
       " 'pageSequence': 13,\n",
       " 'relevance': {'score': '6.03076', 'value': 'very relevant'},\n",
       " 'snippet': 'IN SUPPORT of warfare elements, air- base operations stepped up to ensure the smooth and safe conduct of Exercise Red Flag Nellis.',\n",
       " 'troveUrl': 'https://trove.nla.gov.au/ndp/del/article/260653327?searchTerm=influenza'}"
      ]
     },
     "execution_count": 19,
     "metadata": {},
     "output_type": "execute_result"
    }
   ],
   "source": [
    "articles[0]"
   ]
  },
  {
   "cell_type": "markdown",
   "id": "845f4b7b-21ed-4073-87a1-c0689da22691",
   "metadata": {
    "tags": []
   },
   "source": [
    "### 5.4 How to control the metadata returned? (More Attributes!)\n",
    "\n",
    "<font size=4.5>\n",
    "\n",
    "You may not satisfied with the degree of detail you get in response of basic searching:\n",
    "    \n",
    "<font color=blue>\n",
    "    \n",
    "* How can I get the text of article?\n",
    "* I don't want those poor qualitative OCR text! How can I get the pdf?\n",
    "    </font>\n",
    "    \n",
    "We can use the following parameters to get more details of records:\n",
    "    \n",
    "* `reclevel` - \tIndicates whether to return a full or brief metadata record. The possible values are <b>brief</b> and <b>full</b>. <b>brief</b> is default. You can get the link of pdf version of article using this parameter.\n",
    "* `include` - This parameter is usually used in getting information about a single item in Trove only, as a <b>full</b> reclevel covers all the attributes that 'include' parameter mentions. But if you  want full text (OCR text) of newspaper/gazette in searching, you can set it as <b>articletext</b>.\n",
    "\n",
    "The following table shows different record structures based on different parameters:\n",
    "\n",
    "| reclevel | include       | record attributes                                                                                                                                                                                                                                                 |\n",
    "| -------- | ------------- | ----------------------------------------------------------------------------------------------------------------------------------------------------------------------------------------------------------------------------------------------------------------- |\n",
    "| \"brief\"  | none          | id, url, heading, category, edition, date, page, pageSequence, snippet, troveUrl, title.id, title.value, relevance.score, relevance.value                                                                                                                         |\n",
    "| \"brief\"  | \"all\"         | same as above                                                                                                                                                                                                                                                     |\n",
    "| \"brief\"  | \"articletext\" | id, url, heading, category, edition, date, page, pageSequence, snippet, troveUrl, title.id, title.value, relevance.score, relevance.value, <font color=red><b>articleText</b></font>                                                                                                            |\n",
    "| \"full\"   | none          | id, url, heading, category, edition, date, page, pageSequence, snippet, troveUrl, title.id, title.value, relevance.score, relevance.value, <font color=blue>illustrated, wordCount, correctionCount, listCount, tagCount, commentCount, identifier, trovePageUrl,</font>  <font color=red><b>pdf</b></font>             |\n",
    "| \"full\"   | \"all\"         | same as above                                                                                                                                                                                                                                                     |\n",
    "| \"full\"    | \"articletext\" | id, url, heading, category, edition, date, page, pageSequence, snippet, troveUrl, title.id, title.value, relevance.score, relevance.value, <font color=blue>illustrated, wordCount, correctionCount, listCount, tagCount, commentCount, identifier, trovePageUrl,</font> <font color=red><b>pdf,  articleText</b></font> |\n",
    "\n",
    "For more explanations for parameters controlling the metadata returned, please check [here](https://trove.nla.gov.au/about/create-something/using-api/api-technical-guide#parameters-available-when-requesting-a-record), and [here](https://trove.nla.gov.au/about/create-something/using-api/api-technical-guide#examples-01)  for more examples."
   ]
  },
  {
   "cell_type": "markdown",
   "id": "89c73a5f-8e53-4645-ab59-56d41652fdbb",
   "metadata": {},
   "source": [
    "<font size=4.5>\n",
    "\n",
    "Run the following cell to get the most detailed records in Trove newspaper searching. "
   ]
  },
  {
   "cell_type": "code",
   "execution_count": 20,
   "id": "235e31c7-960f-48a2-b1eb-033bba418ae9",
   "metadata": {
    "execution": {
     "iopub.execute_input": "2021-09-05T17:19:40.003351Z",
     "iopub.status.busy": "2021-09-05T17:19:40.003351Z",
     "iopub.status.idle": "2021-09-05T17:19:40.373968Z",
     "shell.execute_reply": "2021-09-05T17:19:40.372050Z",
     "shell.execute_reply.started": "2021-09-05T17:19:40.003351Z"
    },
    "tags": []
   },
   "outputs": [],
   "source": [
    "# edit here\n",
    "reclevel = \"full\"\n",
    "include = \"articletext\"\n",
    "\n",
    "\n",
    "# don't edit below!\n",
    "start = \"*\"\n",
    "query_term = \"influenza\"\n",
    "\n",
    "reqeust_params_advanced = {\n",
    "    \"key\": api_key,\n",
    "    \"q\": query_term,\n",
    "    \"zone\": \"newspaper\",\n",
    "    \"n\": 10,\n",
    "    \"s\": \"*\",\n",
    "    \"encoding\": \"json\",\n",
    "    \"reclevel\": reclevel,\n",
    "    \"include\": include,\n",
    "}\n",
    "\n",
    "response = requests.get(root_url, reqeust_params_advanced)\n",
    "if response.status_code == 200:\n",
    "    articles = response.json()[\"response\"][\"zone\"][0][\"records\"][\"article\"]"
   ]
  },
  {
   "cell_type": "markdown",
   "id": "00068304-7925-4e99-8c70-9d41edd9b01d",
   "metadata": {},
   "source": [
    "<font size=4.5>\n",
    "\n",
    "Run the following cell to check the first record we get. <br> \n",
    "The value of `pdf` atrribute can lead you to the pdf version of the newspaper page that this article is in.<br>\n",
    "The value of `articleText` attribute can get OCR text of this article in html format. (Save this piece of text into html file, you can see a \"normal view\" of the article OCR text.)"
   ]
  },
  {
   "cell_type": "code",
   "execution_count": 21,
   "id": "07e3c710-3062-4bdf-8d4a-2e1fe0d4bbcd",
   "metadata": {
    "execution": {
     "iopub.execute_input": "2021-09-05T17:19:41.650767Z",
     "iopub.status.busy": "2021-09-05T17:19:41.650767Z",
     "iopub.status.idle": "2021-09-05T17:19:41.658743Z",
     "shell.execute_reply": "2021-09-05T17:19:41.657747Z",
     "shell.execute_reply.started": "2021-09-05T17:19:41.650767Z"
    },
    "tags": []
   },
   "outputs": [
    {
     "data": {
      "text/plain": [
       "{'id': '174293919',\n",
       " 'url': '/newspaper/174293919',\n",
       " 'heading': 'INFLUENZA. INFLUENZA RESTRICTIONS.',\n",
       " 'category': 'Article',\n",
       " 'title': {'id': '840',\n",
       "  'value': 'The Telegraph (Brisbane, Qld. : 1872 - 1947)'},\n",
       " 'edition': 'SECOND EDITION',\n",
       " 'date': '1919-08-08',\n",
       " 'page': 5,\n",
       " 'pageSequence': '5 S',\n",
       " 'relevance': {'score': '233.26903', 'value': 'very relevant'},\n",
       " 'snippet': 'The influenza restrictions have, been removed from nearly all, the districts in which they were imposed, but they have now been applied to the shire of Eacham',\n",
       " 'troveUrl': 'https://trove.nla.gov.au/ndp/del/article/174293919?searchTerm=influenza',\n",
       " 'illustrated': 'N',\n",
       " 'wordCount': 42,\n",
       " 'correctionCount': 0,\n",
       " 'listCount': 0,\n",
       " 'tagCount': 0,\n",
       " 'commentCount': 0,\n",
       " 'identifier': 'https://nla.gov.au/nla.news-article174293919',\n",
       " 'trovePageUrl': 'https://trove.nla.gov.au/ndp/del/page/19078175',\n",
       " 'pdf': 'https://trove.nla.gov.au/ndp/imageservice/nla.news-page19078175/print',\n",
       " 'articleText': '<p><span>  INFLUEKZA.</span></p> <p><span>  INFLUENZA  RESTRICTIONS.\\'</span></p> <p><span>  The  influenza  restrictions-  have,  been  re</span><span>  moved  from  nearly\\'  all,  the  districts  in</span><span>  which  :they  were  imposed,  but  they  have</span><span>  now  been  applied  to  the  shire  of  Eacham;</span><span>  :North  Queensland,,  where  the  epidemic  has</span><span>  \"made  a  belated  apjiearance.  \\'\\'</span></p> '}"
      ]
     },
     "execution_count": 21,
     "metadata": {},
     "output_type": "execute_result"
    }
   ],
   "source": [
    "articles[0]"
   ]
  },
  {
   "cell_type": "markdown",
   "id": "0783c77e-13c0-40e5-9bfd-d9b32e9aa76c",
   "metadata": {
    "tags": []
   },
   "source": [
    "## 6. How to capture more records?\n",
    "\n",
    "<font size=4.5 color=blue>\n",
    "    \n",
    "In this part, we will see how to capture more records by passing value of `nextStart` attribute to `s` parameter iteratively."
   ]
  },
  {
   "cell_type": "code",
   "execution_count": 22,
   "id": "8bfd2624-6137-4ee2-8dc3-df812b7d804c",
   "metadata": {
    "execution": {
     "iopub.execute_input": "2021-09-05T17:19:42.846498Z",
     "iopub.status.busy": "2021-09-05T17:19:42.845495Z",
     "iopub.status.idle": "2021-09-05T17:19:42.853443Z",
     "shell.execute_reply": "2021-09-05T17:19:42.852446Z",
     "shell.execute_reply.started": "2021-09-05T17:19:42.846498Z"
    },
    "tags": []
   },
   "outputs": [],
   "source": [
    "# set the number of record you want to harvest\n",
    "# please set a number that can be divided exactly by n parameter\n",
    "harvest_num = 1500\n",
    "\n",
    "# request parameters setting as usual\n",
    "start = \"*\"\n",
    "query_term = \"influenza\"\n",
    "\n",
    "reqeust_params_more = {\n",
    "    \"key\": api_key,\n",
    "    \"q\": query_term,\n",
    "    \"zone\": \"newspaper\",\n",
    "    \"n\": 100,  # the maximum value of n is 100\n",
    "    \"s\": start,\n",
    "    \"encoding\": \"json\",\n",
    "}"
   ]
  },
  {
   "cell_type": "markdown",
   "id": "02ab5964-4606-4f07-ac92-52451fdb4a90",
   "metadata": {
    "execution": {
     "iopub.execute_input": "2021-09-03T01:44:53.134824Z",
     "iopub.status.busy": "2021-09-03T01:44:53.134824Z",
     "iopub.status.idle": "2021-09-03T01:44:54.040159Z",
     "shell.execute_reply": "2021-09-03T01:44:54.037968Z",
     "shell.execute_reply.started": "2021-09-03T01:44:53.134824Z"
    },
    "tags": []
   },
   "source": [
    "<font size=4.5>\n",
    "\n",
    "Run the following cell to harvest more records after you construct the query you want to try."
   ]
  },
  {
   "cell_type": "code",
   "execution_count": 23,
   "id": "60f5c67e-ac3e-4d7c-ba5c-a451179fec5c",
   "metadata": {
    "execution": {
     "iopub.execute_input": "2021-09-05T17:19:44.261429Z",
     "iopub.status.busy": "2021-09-05T17:19:44.260473Z",
     "iopub.status.idle": "2021-09-05T17:19:55.242204Z",
     "shell.execute_reply": "2021-09-05T17:19:55.240242Z",
     "shell.execute_reply.started": "2021-09-05T17:19:44.261429Z"
    },
    "tags": []
   },
   "outputs": [
    {
     "name": "stdout",
     "output_type": "stream",
     "text": [
      "There are 1715104 record found in this request.\n",
      "You got 1500 records in this request. \n"
     ]
    }
   ],
   "source": [
    "# collect the records\n",
    "articles_more = []\n",
    "\n",
    "# quit the iteration when there's no next page or we get enough records\n",
    "while len(articles_more) < harvest_num and start:\n",
    "    response = requests.get(root_url, reqeust_params_more)\n",
    "    if response.status_code == 200:\n",
    "        zone = response.json()[\"response\"][\"zone\"][0]\n",
    "        records = zone[\"records\"]\n",
    "        articles_more.extend(records[\"article\"])\n",
    "        # get s parameter for next page (if there is)\n",
    "        start = records.get(\"nextStart\")\n",
    "        # update s parameter in request parameters\n",
    "        reqeust_params_more[\"s\"] = start\n",
    "    else:\n",
    "        print(response.status_code)\n",
    "\n",
    "print(f\"There are {records['total']} record found in this request.\")\n",
    "print(f\"You got {len(articles_more)} records in this request. \")"
   ]
  },
  {
   "cell_type": "markdown",
   "id": "b182f259-c3fe-4db3-8545-4ac53b40a405",
   "metadata": {
    "tags": []
   },
   "source": [
    "## 7. Store your grains\n",
    "\n",
    "<font size=4.5 color=blue>\n",
    "    \n",
    "In this part, we will see how to store our harvested records as json file into disk.<br>\n",
    "(In the previous tests, the harvested records are just stored in memory.)"
   ]
  },
  {
   "cell_type": "code",
   "execution_count": 24,
   "id": "a999bfcc-6219-44ee-936d-42fb4acc118b",
   "metadata": {
    "execution": {
     "iopub.execute_input": "2021-09-05T17:19:55.247192Z",
     "iopub.status.busy": "2021-09-05T17:19:55.247192Z",
     "iopub.status.idle": "2021-09-05T17:19:55.401202Z",
     "shell.execute_reply": "2021-09-05T17:19:55.399208Z",
     "shell.execute_reply.started": "2021-09-05T17:19:55.247192Z"
    },
    "tags": []
   },
   "outputs": [],
   "source": [
    "# record the time you do this query\n",
    "timestamp = time_now()\n",
    "# set your output information\n",
    "output_folder = \"./\"\n",
    "output_filename = f\"trove_harvest_{timestamp}_records.json\"\n",
    "\n",
    "# save your harvested  records\n",
    "with open(output_folder + output_filename, \"w\") as j:\n",
    "    json.dump(articles_more, j, indent=4)"
   ]
  },
  {
   "cell_type": "markdown",
   "id": "80dc1f0b-fec5-4a7d-82fe-1f0d0301ad9c",
   "metadata": {
    "execution": {
     "iopub.execute_input": "2021-09-01T08:50:41.424666Z",
     "iopub.status.busy": "2021-09-01T08:50:41.424666Z",
     "iopub.status.idle": "2021-09-01T08:50:41.430651Z",
     "shell.execute_reply": "2021-09-01T08:50:41.429654Z",
     "shell.execute_reply.started": "2021-09-01T08:50:41.424666Z"
    },
    "tags": []
   },
   "source": [
    "## 8. A regular workflow\n",
    "\n",
    "<font size=4.5 color=blue>\n",
    "    \n",
    "Finally, we will integrate all the steps we've tried and build up a regular workflow for Trove Harvesting.<br>\n",
    "    \n",
    "![A Regular Workflow for Trove Harvesting](./img/trove_harvesting_workflow.png)\n",
    "    </font>"
   ]
  },
  {
   "cell_type": "code",
   "execution_count": 25,
   "id": "853fb385-6a2f-4128-8d8e-905e8450f9ac",
   "metadata": {
    "execution": {
     "iopub.execute_input": "2021-09-05T17:20:09.406745Z",
     "iopub.status.busy": "2021-09-05T17:20:09.406745Z",
     "iopub.status.idle": "2021-09-05T17:20:09.416693Z",
     "shell.execute_reply": "2021-09-05T17:20:09.413702Z",
     "shell.execute_reply.started": "2021-09-05T17:20:09.406745Z"
    },
    "tags": []
   },
   "outputs": [],
   "source": [
    "# set the request parameters here\n",
    "query_terms = \"musical\"  # Try to use more searching commands here!\n",
    "zones = \"newspaper\"\n",
    "num_per_page = 100\n",
    "sort_by = \"relevance\"\n",
    "reclevel = \"full\"\n",
    "include = \"articletext\"\n",
    "\n",
    "# set the harvest number you want here\n",
    "harvest_num = 1000\n",
    "\n",
    "# record the time you do this query\n",
    "timestamp = time_now()\n",
    "\n",
    "###\n",
    "# set your output information\n",
    "###\n",
    "\n",
    "# set your output folder\n",
    "output_folder = \"./\"\n",
    "# set the name of your json file storing harvested records\n",
    "output_records = f\"trove_harvest_{timestamp}_records.json\"\n",
    "# set the name of your json file storing  request information\n",
    "output_requestInfo = f\"trove_harvest_{timestamp}_requestInfo.json\""
   ]
  },
  {
   "cell_type": "code",
   "execution_count": 26,
   "id": "8d9e17ff-10c2-41af-af3a-75e8e362973c",
   "metadata": {
    "execution": {
     "iopub.execute_input": "2021-09-05T17:20:11.206181Z",
     "iopub.status.busy": "2021-09-05T17:20:11.205180Z",
     "iopub.status.idle": "2021-09-05T17:20:23.997376Z",
     "shell.execute_reply": "2021-09-05T17:20:23.996380Z",
     "shell.execute_reply.started": "2021-09-05T17:20:11.205180Z"
    },
    "tags": []
   },
   "outputs": [
    {
     "name": "stdout",
     "output_type": "stream",
     "text": [
      "There are 10435590 record found in this request.\n",
      "You got 1000 records in this request. \n",
      "./trove_harvest_202109060320_records.json saved!\n",
      "./trove_harvest_202109060320_requestInfo.json saved!\n"
     ]
    }
   ],
   "source": [
    "reqeust_params_regular = {\n",
    "    \"key\": api_key,\n",
    "    \"q\": query_terms,\n",
    "    \"zone\": zones,\n",
    "    \"n\": num_per_page,\n",
    "    \"sort_by\": sort_by,\n",
    "    \"reclevel\": reclevel,\n",
    "    \"include\": include,\n",
    "    \"encoding\": \"json\",\n",
    "}\n",
    "\n",
    "# collect the records\n",
    "articles = []\n",
    "\n",
    "while len(articles) < harvest_num and start:\n",
    "    response = requests.get(root_url, reqeust_params_regular)\n",
    "    if response.status_code == 200:\n",
    "        zone = response.json()[\"response\"][\"zone\"][0]\n",
    "        records = zone[\"records\"]\n",
    "        articles.extend(records[\"article\"])\n",
    "        # get s parameter for next page (if there is)\n",
    "        start = records.get(\"nextStart\")\n",
    "        # update s parameter in request parameters\n",
    "        reqeust_params_regular[\"s\"] = start\n",
    "    else:\n",
    "        print(response.status_code)\n",
    "\n",
    "# save information of searching\n",
    "request_info = {}\n",
    "request_info[\"query\"] = response.json()[\"response\"][\"query\"]\n",
    "request_info[\"zone_name\"] = zone[\"name\"]\n",
    "request_info[\"total_num\"] = records[\"total\"]\n",
    "\n",
    "print(f\"There are {records['total']} record found in this request.\")\n",
    "print(f\"You got {len(articles)} records in this request. \")\n",
    "\n",
    "# save your harvested  records\n",
    "with open(output_folder + output_records, \"w\") as j:\n",
    "    json.dump(articles, j, indent=4)\n",
    "print(f\"{output_folder + output_records} saved!\")\n",
    "\n",
    "# save your harvested  records\n",
    "with open(output_folder + output_requestInfo, \"w\") as j:\n",
    "    json.dump(request_info, j, indent=4)\n",
    "print(f\"{output_folder + output_requestInfo} saved!\")"
   ]
  },
  {
   "cell_type": "markdown",
   "id": "607c2498-fbc0-4f6f-9345-20c4a1456703",
   "metadata": {
    "tags": []
   },
   "source": [
    "## The End?"
   ]
  },
  {
   "cell_type": "markdown",
   "id": "349d757e-c1c4-4a7e-863f-d62c450a050e",
   "metadata": {
    "tags": []
   },
   "source": [
    "### Bonus1: Wait! How can I use these json files?!\n",
    "\n",
    "<font size=4.5>\n",
    "\n",
    "There are many kinds of tools can handle these json file, from softwares like Excel and Tableau, to Programming languages like R & Python. You can choose the tool you're most familiar with. <br>\n",
    "* If you are more comfortable with Excel, try to load json file into Excel following [this post](https://allthings.how/how-to-convert-json-to-excel/).<br>\n",
    "* If you still want to use Python as your analysis tool, the following cell can help you load the json file using Python."
   ]
  },
  {
   "cell_type": "code",
   "execution_count": 27,
   "id": "ee870063-02d3-4c2d-9ab0-adf9fd139e0e",
   "metadata": {
    "execution": {
     "iopub.execute_input": "2021-09-05T17:20:24.000374Z",
     "iopub.status.busy": "2021-09-05T17:20:23.999374Z",
     "iopub.status.idle": "2021-09-05T17:20:24.171938Z",
     "shell.execute_reply": "2021-09-05T17:20:24.171938Z",
     "shell.execute_reply.started": "2021-09-05T17:20:24.000374Z"
    },
    "tags": []
   },
   "outputs": [],
   "source": [
    "import json\n",
    "\n",
    "input_folder = \"./sample/\"\n",
    "j_name = \"trove_harvest_202109060042_records.json\"\n",
    "\n",
    "with open(input_folder + j_name) as j:\n",
    "    articles_get = json.load(j)"
   ]
  },
  {
   "cell_type": "markdown",
   "id": "7bb462c2-5c10-4806-918b-ea8ad46bbb0e",
   "metadata": {
    "tags": []
   },
   "source": [
    "### Bonus2: I don't want json!! Give me a human readable output file!\n",
    "\n",
    "<font size=4.5>\n",
    "The reason why we use json in this notebook only is because <u>this notebook want to focus on how to use Trove API to accurately harvest the a large number of records you want</u>. Json convertion is more like a data wrangling problem.<br>\n",
    "What's more, some json files may have multiple hierarchical structures that can't be completely converted into table-like files like csv and excel files.<br>\n",
    "<font color=red>Here we highly recommend you to store all the records you get into json files that neatly store all information first, and then convert the exact attributes you want into a flatten format.</font>\n",
    "    \n",
    "<br><br>\n",
    "If you really want a shortcut, in Python, you can try to use [pandas.json_normalize()](https://pandas.pydata.org/pandas-docs/version/1.2.0/reference/api/pandas.json_normalize.html) to flatten your json (hierarchy <= 2)."
   ]
  },
  {
   "cell_type": "code",
   "execution_count": 28,
   "id": "de497741-922c-4e75-ad7f-0a109a3bfb38",
   "metadata": {
    "execution": {
     "iopub.execute_input": "2021-09-05T17:20:24.174899Z",
     "iopub.status.busy": "2021-09-05T17:20:24.173903Z",
     "iopub.status.idle": "2021-09-05T17:20:24.343708Z",
     "shell.execute_reply": "2021-09-05T17:20:24.341725Z",
     "shell.execute_reply.started": "2021-09-05T17:20:24.174899Z"
    },
    "tags": []
   },
   "outputs": [
    {
     "data": {
      "text/html": [
       "<div>\n",
       "<style scoped>\n",
       "    .dataframe tbody tr th:only-of-type {\n",
       "        vertical-align: middle;\n",
       "    }\n",
       "\n",
       "    .dataframe tbody tr th {\n",
       "        vertical-align: top;\n",
       "    }\n",
       "\n",
       "    .dataframe thead th {\n",
       "        text-align: right;\n",
       "    }\n",
       "</style>\n",
       "<table border=\"1\" class=\"dataframe\">\n",
       "  <thead>\n",
       "    <tr style=\"text-align: right;\">\n",
       "      <th></th>\n",
       "      <th>id</th>\n",
       "      <th>url</th>\n",
       "      <th>heading</th>\n",
       "      <th>category</th>\n",
       "      <th>date</th>\n",
       "      <th>page</th>\n",
       "      <th>pageSequence</th>\n",
       "      <th>snippet</th>\n",
       "      <th>troveUrl</th>\n",
       "      <th>illustrated</th>\n",
       "      <th>...</th>\n",
       "      <th>title.id</th>\n",
       "      <th>title.value</th>\n",
       "      <th>relevance.score</th>\n",
       "      <th>relevance.value</th>\n",
       "      <th>supplement</th>\n",
       "      <th>section</th>\n",
       "      <th>pageLabel</th>\n",
       "      <th>lastCorrection.by</th>\n",
       "      <th>lastCorrection.lastupdated</th>\n",
       "      <th>edition</th>\n",
       "    </tr>\n",
       "  </thead>\n",
       "  <tbody>\n",
       "    <tr>\n",
       "      <th>0</th>\n",
       "      <td>162389066</td>\n",
       "      <td>/newspaper/162389066</td>\n",
       "      <td>MUSICAL. MUSICAL NOTES.</td>\n",
       "      <td>Article</td>\n",
       "      <td>1898-02-19</td>\n",
       "      <td>45</td>\n",
       "      <td>45</td>\n",
       "      <td>In accordance with general expectations Saturd...</td>\n",
       "      <td>https://trove.nla.gov.au/ndp/del/article/16238...</td>\n",
       "      <td>N</td>\n",
       "      <td>...</td>\n",
       "      <td>821</td>\n",
       "      <td>Adelaide Observer (SA : 1843 - 1904)</td>\n",
       "      <td>214.46603</td>\n",
       "      <td>very relevant</td>\n",
       "      <td>NaN</td>\n",
       "      <td>NaN</td>\n",
       "      <td>NaN</td>\n",
       "      <td>NaN</td>\n",
       "      <td>NaN</td>\n",
       "      <td>NaN</td>\n",
       "    </tr>\n",
       "    <tr>\n",
       "      <th>1</th>\n",
       "      <td>90545756</td>\n",
       "      <td>/newspaper/90545756</td>\n",
       "      <td>MUSICAL. MUSICAL EDUCATION.</td>\n",
       "      <td>Article</td>\n",
       "      <td>1884-10-25</td>\n",
       "      <td>1</td>\n",
       "      <td>1 S</td>\n",
       "      <td>Hand in hand I would willingly go with the mus...</td>\n",
       "      <td>https://trove.nla.gov.au/ndp/del/article/90545...</td>\n",
       "      <td>N</td>\n",
       "      <td>...</td>\n",
       "      <td>74</td>\n",
       "      <td>Launceston Examiner (Tas. : 1842 - 1899)</td>\n",
       "      <td>214.12755</td>\n",
       "      <td>very relevant</td>\n",
       "      <td>Supplement to the Launceston Examiner.</td>\n",
       "      <td>NaN</td>\n",
       "      <td>NaN</td>\n",
       "      <td>NaN</td>\n",
       "      <td>NaN</td>\n",
       "      <td>NaN</td>\n",
       "    </tr>\n",
       "    <tr>\n",
       "      <th>2</th>\n",
       "      <td>261972892</td>\n",
       "      <td>/newspaper/261972892</td>\n",
       "      <td>Nostalgic musical Musical Countdown the Musical</td>\n",
       "      <td>Article</td>\n",
       "      <td>1998-11-27</td>\n",
       "      <td>6</td>\n",
       "      <td>6 S</td>\n",
       "      <td>IT was a case of turning back the clock for a ...</td>\n",
       "      <td>https://trove.nla.gov.au/ndp/del/article/26197...</td>\n",
       "      <td>Y</td>\n",
       "      <td>...</td>\n",
       "      <td>1685</td>\n",
       "      <td>The Australian Jewish News (Melbourne, Vic. : ...</td>\n",
       "      <td>209.74936</td>\n",
       "      <td>very relevant</td>\n",
       "      <td>NaN</td>\n",
       "      <td>What's On</td>\n",
       "      <td>6.0</td>\n",
       "      <td>NaN</td>\n",
       "      <td>NaN</td>\n",
       "      <td>NaN</td>\n",
       "    </tr>\n",
       "    <tr>\n",
       "      <th>3</th>\n",
       "      <td>100253743</td>\n",
       "      <td>/newspaper/100253743</td>\n",
       "      <td>MUSICAL.</td>\n",
       "      <td>Article</td>\n",
       "      <td>1912-08-31</td>\n",
       "      <td>5</td>\n",
       "      <td>5</td>\n",
       "      <td>Mr. Harold F. Burstall, A.T.C.L., late of St. ...</td>\n",
       "      <td>https://trove.nla.gov.au/ndp/del/article/10025...</td>\n",
       "      <td>N</td>\n",
       "      <td>...</td>\n",
       "      <td>422</td>\n",
       "      <td>Forbes Times (NSW : 1899 - 1920)</td>\n",
       "      <td>205.68875</td>\n",
       "      <td>very relevant</td>\n",
       "      <td>NaN</td>\n",
       "      <td>NaN</td>\n",
       "      <td>NaN</td>\n",
       "      <td>NaN</td>\n",
       "      <td>NaN</td>\n",
       "      <td>NaN</td>\n",
       "    </tr>\n",
       "    <tr>\n",
       "      <th>4</th>\n",
       "      <td>100546064</td>\n",
       "      <td>/newspaper/100546064</td>\n",
       "      <td>MUSICAL.</td>\n",
       "      <td>Article</td>\n",
       "      <td>1905-10-20</td>\n",
       "      <td>2</td>\n",
       "      <td>2</td>\n",
       "      <td>To citizens of Goulburn the young lady who mad...</td>\n",
       "      <td>https://trove.nla.gov.au/ndp/del/article/10054...</td>\n",
       "      <td>N</td>\n",
       "      <td>...</td>\n",
       "      <td>367</td>\n",
       "      <td>Goulburn Herald (NSW : 1881 - 1907)</td>\n",
       "      <td>205.68875</td>\n",
       "      <td>very relevant</td>\n",
       "      <td>NaN</td>\n",
       "      <td>NaN</td>\n",
       "      <td>NaN</td>\n",
       "      <td>NaN</td>\n",
       "      <td>NaN</td>\n",
       "      <td>NaN</td>\n",
       "    </tr>\n",
       "    <tr>\n",
       "      <th>...</th>\n",
       "      <td>...</td>\n",
       "      <td>...</td>\n",
       "      <td>...</td>\n",
       "      <td>...</td>\n",
       "      <td>...</td>\n",
       "      <td>...</td>\n",
       "      <td>...</td>\n",
       "      <td>...</td>\n",
       "      <td>...</td>\n",
       "      <td>...</td>\n",
       "      <td>...</td>\n",
       "      <td>...</td>\n",
       "      <td>...</td>\n",
       "      <td>...</td>\n",
       "      <td>...</td>\n",
       "      <td>...</td>\n",
       "      <td>...</td>\n",
       "      <td>...</td>\n",
       "      <td>...</td>\n",
       "      <td>...</td>\n",
       "      <td>...</td>\n",
       "    </tr>\n",
       "    <tr>\n",
       "      <th>995</th>\n",
       "      <td>121806293</td>\n",
       "      <td>/newspaper/121806293</td>\n",
       "      <td>Musical.</td>\n",
       "      <td>Article</td>\n",
       "      <td>1901-08-07</td>\n",
       "      <td>10</td>\n",
       "      <td>10 S</td>\n",
       "      <td>Signer Louis Aisoll, the well-Known vio-linist...</td>\n",
       "      <td>https://trove.nla.gov.au/ndp/del/article/12180...</td>\n",
       "      <td>N</td>\n",
       "      <td>...</td>\n",
       "      <td>499</td>\n",
       "      <td>Referee (Sydney, NSW : 1886 - 1939)</td>\n",
       "      <td>204.68811</td>\n",
       "      <td>very relevant</td>\n",
       "      <td>NaN</td>\n",
       "      <td>NaN</td>\n",
       "      <td>NaN</td>\n",
       "      <td>NaN</td>\n",
       "      <td>NaN</td>\n",
       "      <td>Edition 2</td>\n",
       "    </tr>\n",
       "    <tr>\n",
       "      <th>996</th>\n",
       "      <td>121807440</td>\n",
       "      <td>/newspaper/121807440</td>\n",
       "      <td>Musical.</td>\n",
       "      <td>Article</td>\n",
       "      <td>1901-06-12</td>\n",
       "      <td>10</td>\n",
       "      <td>10 S</td>\n",
       "      <td>Mdme. Bello Colo left for Melbourne on Sunday ...</td>\n",
       "      <td>https://trove.nla.gov.au/ndp/del/article/12180...</td>\n",
       "      <td>N</td>\n",
       "      <td>...</td>\n",
       "      <td>499</td>\n",
       "      <td>Referee (Sydney, NSW : 1886 - 1939)</td>\n",
       "      <td>204.68811</td>\n",
       "      <td>very relevant</td>\n",
       "      <td>NaN</td>\n",
       "      <td>NaN</td>\n",
       "      <td>NaN</td>\n",
       "      <td>NaN</td>\n",
       "      <td>NaN</td>\n",
       "      <td>Edition 2</td>\n",
       "    </tr>\n",
       "    <tr>\n",
       "      <th>997</th>\n",
       "      <td>121807813</td>\n",
       "      <td>/newspaper/121807813</td>\n",
       "      <td>Musical.</td>\n",
       "      <td>Article</td>\n",
       "      <td>1901-04-17</td>\n",
       "      <td>10</td>\n",
       "      <td>10 S</td>\n",
       "      <td>Mdlle. Antonia Dolores has appeared in three c...</td>\n",
       "      <td>https://trove.nla.gov.au/ndp/del/article/12180...</td>\n",
       "      <td>N</td>\n",
       "      <td>...</td>\n",
       "      <td>499</td>\n",
       "      <td>Referee (Sydney, NSW : 1886 - 1939)</td>\n",
       "      <td>204.68811</td>\n",
       "      <td>very relevant</td>\n",
       "      <td>NaN</td>\n",
       "      <td>NaN</td>\n",
       "      <td>NaN</td>\n",
       "      <td>NaN</td>\n",
       "      <td>NaN</td>\n",
       "      <td>Edition 2</td>\n",
       "    </tr>\n",
       "    <tr>\n",
       "      <th>998</th>\n",
       "      <td>121813389</td>\n",
       "      <td>/newspaper/121813389</td>\n",
       "      <td>Musical.</td>\n",
       "      <td>Article</td>\n",
       "      <td>1900-08-29</td>\n",
       "      <td>10</td>\n",
       "      <td>10</td>\n",
       "      <td>It is reported in a London paper that a resolu...</td>\n",
       "      <td>https://trove.nla.gov.au/ndp/del/article/12181...</td>\n",
       "      <td>N</td>\n",
       "      <td>...</td>\n",
       "      <td>499</td>\n",
       "      <td>Referee (Sydney, NSW : 1886 - 1939)</td>\n",
       "      <td>204.68811</td>\n",
       "      <td>very relevant</td>\n",
       "      <td>NaN</td>\n",
       "      <td>NaN</td>\n",
       "      <td>NaN</td>\n",
       "      <td>NaN</td>\n",
       "      <td>NaN</td>\n",
       "      <td>NaN</td>\n",
       "    </tr>\n",
       "    <tr>\n",
       "      <th>999</th>\n",
       "      <td>121813831</td>\n",
       "      <td>/newspaper/121813831</td>\n",
       "      <td>Musical.</td>\n",
       "      <td>Article</td>\n",
       "      <td>1900-03-21</td>\n",
       "      <td>10</td>\n",
       "      <td>10</td>\n",
       "      <td>Miss Ada Crossley was appearing at the London ...</td>\n",
       "      <td>https://trove.nla.gov.au/ndp/del/article/12181...</td>\n",
       "      <td>Y</td>\n",
       "      <td>...</td>\n",
       "      <td>499</td>\n",
       "      <td>Referee (Sydney, NSW : 1886 - 1939)</td>\n",
       "      <td>204.68811</td>\n",
       "      <td>very relevant</td>\n",
       "      <td>NaN</td>\n",
       "      <td>NaN</td>\n",
       "      <td>NaN</td>\n",
       "      <td>public:jeri</td>\n",
       "      <td>2017-02-16T05:44:02Z</td>\n",
       "      <td>NaN</td>\n",
       "    </tr>\n",
       "  </tbody>\n",
       "</table>\n",
       "<p>1000 rows × 29 columns</p>\n",
       "</div>"
      ],
      "text/plain": [
       "            id                   url  \\\n",
       "0    162389066  /newspaper/162389066   \n",
       "1     90545756   /newspaper/90545756   \n",
       "2    261972892  /newspaper/261972892   \n",
       "3    100253743  /newspaper/100253743   \n",
       "4    100546064  /newspaper/100546064   \n",
       "..         ...                   ...   \n",
       "995  121806293  /newspaper/121806293   \n",
       "996  121807440  /newspaper/121807440   \n",
       "997  121807813  /newspaper/121807813   \n",
       "998  121813389  /newspaper/121813389   \n",
       "999  121813831  /newspaper/121813831   \n",
       "\n",
       "                                             heading category        date  \\\n",
       "0                            MUSICAL. MUSICAL NOTES.  Article  1898-02-19   \n",
       "1                        MUSICAL. MUSICAL EDUCATION.  Article  1884-10-25   \n",
       "2    Nostalgic musical Musical Countdown the Musical  Article  1998-11-27   \n",
       "3                                           MUSICAL.  Article  1912-08-31   \n",
       "4                                           MUSICAL.  Article  1905-10-20   \n",
       "..                                               ...      ...         ...   \n",
       "995                                         Musical.  Article  1901-08-07   \n",
       "996                                         Musical.  Article  1901-06-12   \n",
       "997                                         Musical.  Article  1901-04-17   \n",
       "998                                         Musical.  Article  1900-08-29   \n",
       "999                                         Musical.  Article  1900-03-21   \n",
       "\n",
       "     page pageSequence                                            snippet  \\\n",
       "0      45           45  In accordance with general expectations Saturd...   \n",
       "1       1          1 S  Hand in hand I would willingly go with the mus...   \n",
       "2       6          6 S  IT was a case of turning back the clock for a ...   \n",
       "3       5            5  Mr. Harold F. Burstall, A.T.C.L., late of St. ...   \n",
       "4       2            2  To citizens of Goulburn the young lady who mad...   \n",
       "..    ...          ...                                                ...   \n",
       "995    10         10 S  Signer Louis Aisoll, the well-Known vio-linist...   \n",
       "996    10         10 S  Mdme. Bello Colo left for Melbourne on Sunday ...   \n",
       "997    10         10 S  Mdlle. Antonia Dolores has appeared in three c...   \n",
       "998    10           10  It is reported in a London paper that a resolu...   \n",
       "999    10           10  Miss Ada Crossley was appearing at the London ...   \n",
       "\n",
       "                                              troveUrl illustrated  ...  \\\n",
       "0    https://trove.nla.gov.au/ndp/del/article/16238...           N  ...   \n",
       "1    https://trove.nla.gov.au/ndp/del/article/90545...           N  ...   \n",
       "2    https://trove.nla.gov.au/ndp/del/article/26197...           Y  ...   \n",
       "3    https://trove.nla.gov.au/ndp/del/article/10025...           N  ...   \n",
       "4    https://trove.nla.gov.au/ndp/del/article/10054...           N  ...   \n",
       "..                                                 ...         ...  ...   \n",
       "995  https://trove.nla.gov.au/ndp/del/article/12180...           N  ...   \n",
       "996  https://trove.nla.gov.au/ndp/del/article/12180...           N  ...   \n",
       "997  https://trove.nla.gov.au/ndp/del/article/12180...           N  ...   \n",
       "998  https://trove.nla.gov.au/ndp/del/article/12181...           N  ...   \n",
       "999  https://trove.nla.gov.au/ndp/del/article/12181...           Y  ...   \n",
       "\n",
       "     title.id                                        title.value  \\\n",
       "0         821               Adelaide Observer (SA : 1843 - 1904)   \n",
       "1          74           Launceston Examiner (Tas. : 1842 - 1899)   \n",
       "2        1685  The Australian Jewish News (Melbourne, Vic. : ...   \n",
       "3         422                   Forbes Times (NSW : 1899 - 1920)   \n",
       "4         367                Goulburn Herald (NSW : 1881 - 1907)   \n",
       "..        ...                                                ...   \n",
       "995       499                Referee (Sydney, NSW : 1886 - 1939)   \n",
       "996       499                Referee (Sydney, NSW : 1886 - 1939)   \n",
       "997       499                Referee (Sydney, NSW : 1886 - 1939)   \n",
       "998       499                Referee (Sydney, NSW : 1886 - 1939)   \n",
       "999       499                Referee (Sydney, NSW : 1886 - 1939)   \n",
       "\n",
       "     relevance.score  relevance.value                              supplement  \\\n",
       "0          214.46603    very relevant                                     NaN   \n",
       "1          214.12755    very relevant  Supplement to the Launceston Examiner.   \n",
       "2          209.74936    very relevant                                     NaN   \n",
       "3          205.68875    very relevant                                     NaN   \n",
       "4          205.68875    very relevant                                     NaN   \n",
       "..               ...              ...                                     ...   \n",
       "995        204.68811    very relevant                                     NaN   \n",
       "996        204.68811    very relevant                                     NaN   \n",
       "997        204.68811    very relevant                                     NaN   \n",
       "998        204.68811    very relevant                                     NaN   \n",
       "999        204.68811    very relevant                                     NaN   \n",
       "\n",
       "       section pageLabel lastCorrection.by lastCorrection.lastupdated  \\\n",
       "0          NaN       NaN               NaN                        NaN   \n",
       "1          NaN       NaN               NaN                        NaN   \n",
       "2    What's On       6.0               NaN                        NaN   \n",
       "3          NaN       NaN               NaN                        NaN   \n",
       "4          NaN       NaN               NaN                        NaN   \n",
       "..         ...       ...               ...                        ...   \n",
       "995        NaN       NaN               NaN                        NaN   \n",
       "996        NaN       NaN               NaN                        NaN   \n",
       "997        NaN       NaN               NaN                        NaN   \n",
       "998        NaN       NaN               NaN                        NaN   \n",
       "999        NaN       NaN       public:jeri       2017-02-16T05:44:02Z   \n",
       "\n",
       "       edition  \n",
       "0          NaN  \n",
       "1          NaN  \n",
       "2          NaN  \n",
       "3          NaN  \n",
       "4          NaN  \n",
       "..         ...  \n",
       "995  Edition 2  \n",
       "996  Edition 2  \n",
       "997  Edition 2  \n",
       "998        NaN  \n",
       "999        NaN  \n",
       "\n",
       "[1000 rows x 29 columns]"
      ]
     },
     "execution_count": 28,
     "metadata": {},
     "output_type": "execute_result"
    }
   ],
   "source": [
    "import json\n",
    "\n",
    "import pandas as pd\n",
    "\n",
    "input_folder = \"./sample/\"\n",
    "j_name = \"trove_harvest_202109060042_records.json\"\n",
    "\n",
    "with open(input_folder + j_name) as j:\n",
    "    articles_get = json.load(j)\n",
    "\n",
    "pd.json_normalize(articles_get)"
   ]
  },
  {
   "cell_type": "markdown",
   "id": "ae9c9818-5930-4b6a-bb9a-7c2215d74ede",
   "metadata": {
    "tags": []
   },
   "source": [
    "### Bonus3: I don't want my article text in the cell! How to free it? \n",
    "\n",
    "<font size=4.5>\n",
    "    \n",
    "Again, this is more like a data wrangling problem. \n",
    "    \n",
    "The key idea to do this is to use your json file, and store the article text (`articleText` attribute) into <b>html</b> one by one. Don't forget to save `id` attribute into the name of respective html file, so that we can trace the text back to metadata using the value of `id`."
   ]
  },
  {
   "cell_type": "code",
   "execution_count": 29,
   "id": "b952d293-6200-4d79-a912-64bf6b233141",
   "metadata": {
    "execution": {
     "iopub.execute_input": "2021-09-05T17:20:24.345703Z",
     "iopub.status.busy": "2021-09-05T17:20:24.345703Z",
     "iopub.status.idle": "2021-09-05T17:20:24.410530Z",
     "shell.execute_reply": "2021-09-05T17:20:24.408537Z",
     "shell.execute_reply.started": "2021-09-05T17:20:24.345703Z"
    },
    "tags": []
   },
   "outputs": [],
   "source": [
    "import json\n",
    "\n",
    "input_folder = \"./sample/\"\n",
    "j_name = \"trove_harvest_202109060042_records.json\"\n",
    "output_folder = \"./\"\n",
    "\n",
    "with open(input_folder + j_name) as j:\n",
    "    articles_get = json.load(j)"
   ]
  },
  {
   "cell_type": "code",
   "execution_count": 62,
   "id": "e4c4c324-7f61-4f67-afff-fe0b401e7e9c",
   "metadata": {
    "execution": {
     "iopub.execute_input": "2021-09-05T16:45:55.333052Z",
     "iopub.status.busy": "2021-09-05T16:45:55.332055Z",
     "iopub.status.idle": "2021-09-05T16:45:55.950258Z",
     "shell.execute_reply": "2021-09-05T16:45:55.949222Z",
     "shell.execute_reply.started": "2021-09-05T16:45:55.333052Z"
    },
    "tags": []
   },
   "outputs": [],
   "source": [
    "for article in articles_get:\n",
    "    html_name = f\"newspaper_{article.get('id')}.html\"\n",
    "    article_text = article.get(\"articleText\")\n",
    "    with open(output_folder + html_name, \"w\", encoding=\"utf-8\") as h:\n",
    "        h.write(article_text)"
   ]
  },
  {
   "cell_type": "markdown",
   "id": "5f8f5114-230f-4de1-b419-7d4eec8d1145",
   "metadata": {
    "tags": []
   },
   "source": [
    "### Bonus4: I need to! How to free it? \n",
    "\n",
    "<font size=4.5>\n",
    "    \n",
    "Same idea as saving OCR article text! This time, we need to use `pdf` attribute.<br>\n",
    "Since we need to download the pdf from online, we need to import a new library `urllib`."
   ]
  },
  {
   "cell_type": "code",
   "execution_count": 66,
   "id": "8fbbe4dc-10ae-48c8-a288-a86b68b156a2",
   "metadata": {
    "execution": {
     "iopub.execute_input": "2021-09-05T17:02:43.629492Z",
     "iopub.status.busy": "2021-09-05T17:02:43.628495Z",
     "iopub.status.idle": "2021-09-05T17:02:43.694319Z",
     "shell.execute_reply": "2021-09-05T17:02:43.694319Z",
     "shell.execute_reply.started": "2021-09-05T17:02:43.629492Z"
    },
    "tags": []
   },
   "outputs": [],
   "source": [
    "import json\n",
    "from urllib import request\n",
    "\n",
    "input_folder = \"./sample/\"\n",
    "j_name = \"trove_harvest_202109060042_records.json\"\n",
    "output_folder = \"./\"\n",
    "\n",
    "with open(input_folder + j_name) as j:\n",
    "    articles_get = json.load(j)"
   ]
  },
  {
   "cell_type": "code",
   "execution_count": null,
   "id": "3e74161b-1c46-402d-a4bd-a5ba7ead1c9c",
   "metadata": {
    "tags": []
   },
   "outputs": [],
   "source": [
    "for article in articles_get:\n",
    "    pdf_name = f\"newspaper_{article.get('id')}.pdf\"\n",
    "    pdf_link = article.get(\"pdf\")\n",
    "    request.urlretrieve(pdf_link, output_folder + pdf_name)\n",
    "    print(\"successfully downloaded: \" + pdf_link)"
   ]
  },
  {
   "cell_type": "markdown",
   "id": "b99d0d68-0dfc-4c2e-a95f-dc5bfa1b8c70",
   "metadata": {},
   "source": [
    "### Bonus5: A few more things if you are confident with the contents above...\n",
    "\n",
    "<font size=4.5>\n",
    "\n",
    "1. How can I use these harvested records to do analysis?<br>\n",
    "2. The pdf I get from Trove API is a full page of newspaper, how can I get a pdf of single article?<br>\n",
    "3. How can I improve the harvesting efficiency? <br>"
   ]
  },
  {
   "cell_type": "markdown",
   "id": "ddb8f102-8356-440c-9f83-fba00a0d6bd5",
   "metadata": {
    "tags": []
   },
   "source": [
    "## More for Trove API"
   ]
  },
  {
   "cell_type": "markdown",
   "id": "7a68dddf-decb-4fa6-8077-41796b9ed657",
   "metadata": {},
   "source": [
    "### [Get information about a single item in Trove.](https://trove.nla.gov.au/about/create-something/using-api/api-technical-guide#api-get-metadata-records)"
   ]
  },
  {
   "cell_type": "markdown",
   "id": "5af3d104-456c-4fd6-8ffa-be3fc80d298f",
   "metadata": {
    "tags": []
   },
   "source": [
    "### [Look up other associated data in Trove](https://trove.nla.gov.au/about/create-something/using-api/api-version-2-technical-guide#api-look-up-associated-data)"
   ]
  }
 ],
 "metadata": {
  "kernelspec": {
   "display_name": "trove_harvester",
   "language": "python",
   "name": "trove_harvester"
  },
  "language_info": {
   "codemirror_mode": {
    "name": "ipython",
    "version": 3
   },
   "file_extension": ".py",
   "mimetype": "text/x-python",
   "name": "python",
   "nbconvert_exporter": "python",
   "pygments_lexer": "ipython3",
   "version": "3.8.10"
  },
  "widgets": {
   "application/vnd.jupyter.widget-state+json": {
    "state": {},
    "version_major": 2,
    "version_minor": 0
   }
  }
 },
 "nbformat": 4,
 "nbformat_minor": 5
}
